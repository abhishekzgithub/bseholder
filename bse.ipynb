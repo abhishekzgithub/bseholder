{
 "cells": [
  {
   "cell_type": "code",
   "execution_count": 1,
   "metadata": {
    "collapsed": false
   },
   "outputs": [],
   "source": [
    "import requests\n",
    "import pandas as pd\n",
    "from bs4 import BeautifulSoup\n",
    "from lxml.etree import XPath\n",
    "from lxml import html\n",
    "# URL=r'https://www.bseindia.com/corporates/shpPromoterNGroup.aspx?scripcd=532500&qtrid=102.00&QtrName=June%202019'\n",
    "# r = requests.get(URL)\n",
    "# #html = lxml.html.parse(URL)\n",
    "# table_xpath=('//tr[3]//td[1]')\n",
    "# #print(html.xpath(table_xpath))\n",
    "\n",
    "# tree = html.fromstring(r.content)\n",
    "# print(tree.xpath(table_xpath))"
   ]
  },
  {
   "cell_type": "code",
   "execution_count": 2,
   "metadata": {
    "collapsed": false,
    "scrolled": true
   },
   "outputs": [
    {
     "data": {
      "text/html": [
       "<div>\n",
       "<table border=\"1\" class=\"dataframe\">\n",
       "  <thead>\n",
       "    <tr style=\"text-align: right;\">\n",
       "      <th></th>\n",
       "    </tr>\n",
       "  </thead>\n",
       "  <tbody>\n",
       "  </tbody>\n",
       "</table>\n",
       "</div>"
      ],
      "text/plain": [
       "Empty DataFrame\n",
       "Columns: []\n",
       "Index: []"
      ]
     },
     "execution_count": 2,
     "metadata": {},
     "output_type": "execute_result"
    }
   ],
   "source": [
    "try:\n",
    "    #URL=r'https://www.bseindia.com/corporates/shpPromoterNGroup.aspx?scripcd=532500&qtrid=102.00&QtrName=June%202019'\n",
    "    #URL=r'https://www.bseindia.com/corporates/shpPublicShareholder.aspx?scripcd=532500&qtrid=101.00&QtrName=June%202019'\n",
    "    URL=r'https://www.bseindia.com/stock-share-price/shp-latest/scripcode/532500/'\n",
    "    r = requests.get(URL)\n",
    "    tree = html.fromstring(r.content)\n",
    "    ll=tree.xpath('//*[@class=\"innertable_header1\"]/text()')\n",
    "    cols=ll\n",
    "    df=pd.DataFrame(columns=cols)\n",
    "    for i in range(0,len(ll)):\n",
    "        try:\n",
    "            tr_elements=tree.xpath(f'//tr[3]//td[{i+2}]')\n",
    "            if i==2:\n",
    "                df[cols[i]]=[(T.text_content()) for T in tr_elements][2:]\n",
    "            elif i+2==5:\n",
    "                df[cols[i]]=[tree.xpath(f'//tr[{i}]//td[7]')[0].text_content() for i in range(7,df.shape[0]-1+7+1)]\n",
    "            elif i+2==6:\n",
    "                df[cols[i]]=[tree.xpath(f'//tr[{i}]//td[8]')[0].text_content() for i in range(7,df.shape[0]-1+7+1)]\n",
    "            elif i+2 in (7,8) :\n",
    "                df[cols[i]]=[(T.text_content()) for T in tr_elements][1:]\n",
    "            elif i+2==9:\n",
    "                df[cols[i]]=[tree.xpath(f'//tr[{i}]//td[19]')[0].text_content() for i in range(7,df.shape[0]-1+7+1)]\n",
    "            else:\n",
    "                df[cols[i]]=[(T.text_content()) for T in tr_elements][3:]\n",
    "        except Exception:\n",
    "            print(Exception)\n",
    "            print(i+2)\n",
    "            continue\n",
    "except ValueError:\n",
    "    print(ValueError)\n",
    "    print(i)\n",
    "    #return df.replace(r'^\\s*$', 0, regex=True)\n",
    "#df=PublicShareholder_df()\n",
    "#df1=df\n",
    "#df1\n",
    "df"
   ]
  },
  {
   "cell_type": "code",
   "execution_count": 3,
   "metadata": {
    "collapsed": false
   },
   "outputs": [
    {
     "data": {
      "text/plain": [
       "[]"
      ]
     },
     "execution_count": 3,
     "metadata": {},
     "output_type": "execute_result"
    }
   ],
   "source": [
    "ll"
   ]
  },
  {
   "cell_type": "code",
   "execution_count": 177,
   "metadata": {
    "collapsed": false,
    "scrolled": true
   },
   "outputs": [
    {
     "data": {
      "text/plain": [
       "23"
      ]
     },
     "execution_count": 177,
     "metadata": {},
     "output_type": "execute_result"
    }
   ],
   "source": [
    "tr_elements=tree.xpath(f'//tr[7]//td[{7}]')\n",
    "[(T.text_content()) for T in tr_elements]\n",
    "#3,4,7,8 is fine\n",
    "#5,6,9 is not\n",
    "#len(tr_elements)\n",
    "#df[cols[3]]=[(T.text_content()) for T in tr_elements][1:]\n",
    "df.shape[0]"
   ]
  },
  {
   "cell_type": "code",
   "execution_count": 182,
   "metadata": {
    "collapsed": false
   },
   "outputs": [
    {
     "data": {
      "text/plain": [
       "[' 0.00',\n",
       " ' 5.77',\n",
       " ' 1.08',\n",
       " ' 0.19',\n",
       " ' 22.30',\n",
       " ' 7.44',\n",
       " ' 6.68',\n",
       " ' 35.71',\n",
       " ' 0.00',\n",
       " ' 0.00',\n",
       " ' 4.34',\n",
       " ' 0.05',\n",
       " ' 0.05',\n",
       " ' 3.64',\n",
       " ' 0.67',\n",
       " ' 0.00',\n",
       " ' 0.16',\n",
       " ' 0.16',\n",
       " ' 0.00',\n",
       " ' 0.08',\n",
       " ' 2.56',\n",
       " ' 8.09',\n",
       " ' 43.79']"
      ]
     },
     "execution_count": 182,
     "metadata": {},
     "output_type": "execute_result"
    }
   ],
   "source": [
    "#tr_elements=tree.xpath(f'//tr[7]//td[7]')[0].text_content()\n",
    "[tree.xpath(f'//tr[{i}]//td[8]')[0].text_content() for i in range(7,df.shape[0]-1+7+1)]"
   ]
  },
  {
   "cell_type": "code",
   "execution_count": 167,
   "metadata": {
    "collapsed": false
   },
   "outputs": [
    {
     "data": {
      "text/plain": [
       "['']"
      ]
     },
     "execution_count": 167,
     "metadata": {},
     "output_type": "execute_result"
    }
   ],
   "source": [
    "[(T.text_content()) for T in tr_elements]"
   ]
  },
  {
   "cell_type": "code",
   "execution_count": 18,
   "metadata": {
    "collapsed": true
   },
   "outputs": [],
   "source": [
    "URL=r'https://www.bseindia.com/corporates/shpPromoterNGroup.aspx?scripcd=532500&qtrid=102.00&QtrName=June%202019'\n",
    "URL=r'https://www.bseindia.com/corporates/shpPublicShareholder.aspx?scripcd=532500&qtrid=101.00&QtrName=June%202019'\n",
    "r = requests.get(URL)\n",
    "tree = html.fromstring(r.content)\n",
    "ll=tree.xpath('//*[@class=\"innertable_header1\"]/text()')"
   ]
  },
  {
   "cell_type": "code",
   "execution_count": 60,
   "metadata": {
    "collapsed": false
   },
   "outputs": [
    {
     "name": "stdout",
     "output_type": "stream",
     "text": [
      "1\n",
      "<class 'ValueError'>\n"
     ]
    },
    {
     "data": {
      "text/html": [
       "<div>\n",
       "<table border=\"1\" class=\"dataframe\">\n",
       "  <thead>\n",
       "    <tr style=\"text-align: right;\">\n",
       "      <th></th>\n",
       "      <th>Category &amp; Name of the Shareholders</th>\n",
       "      <th>No. of shareholder</th>\n",
       "      <th>No. of fully paid up equity shares held</th>\n",
       "      <th>Total no. shares held</th>\n",
       "      <th>Shareholding % calculated as per SCRR, 1957 As a % of (A+B+C2)</th>\n",
       "      <th>No. of Voting Rights</th>\n",
       "      <th>Total as a % of Total Voting right</th>\n",
       "      <th>No. of equity shares held in dematerialized form(Not Applicable)</th>\n",
       "    </tr>\n",
       "  </thead>\n",
       "  <tbody>\n",
       "    <tr>\n",
       "      <th>1</th>\n",
       "      <td></td>\n",
       "      <td>NaN</td>\n",
       "      <td>NaN</td>\n",
       "      <td>NaN</td>\n",
       "      <td>NaN</td>\n",
       "      <td>NaN</td>\n",
       "      <td>NaN</td>\n",
       "      <td>NaN</td>\n",
       "    </tr>\n",
       "    <tr>\n",
       "      <th>2</th>\n",
       "      <td></td>\n",
       "      <td>NaN</td>\n",
       "      <td>NaN</td>\n",
       "      <td>NaN</td>\n",
       "      <td>NaN</td>\n",
       "      <td>NaN</td>\n",
       "      <td>NaN</td>\n",
       "      <td>NaN</td>\n",
       "    </tr>\n",
       "    <tr>\n",
       "      <th>3</th>\n",
       "      <td></td>\n",
       "      <td>NaN</td>\n",
       "      <td>NaN</td>\n",
       "      <td>NaN</td>\n",
       "      <td>NaN</td>\n",
       "      <td>NaN</td>\n",
       "      <td>NaN</td>\n",
       "      <td>NaN</td>\n",
       "    </tr>\n",
       "    <tr>\n",
       "      <th>4</th>\n",
       "      <td>Details of the shareholders acting as persons ...</td>\n",
       "      <td>NaN</td>\n",
       "      <td>NaN</td>\n",
       "      <td>NaN</td>\n",
       "      <td>NaN</td>\n",
       "      <td>NaN</td>\n",
       "      <td>NaN</td>\n",
       "      <td>NaN</td>\n",
       "    </tr>\n",
       "    <tr>\n",
       "      <th>5</th>\n",
       "      <td>Details of Shares which remain unclaimed may b...</td>\n",
       "      <td>NaN</td>\n",
       "      <td>NaN</td>\n",
       "      <td>NaN</td>\n",
       "      <td>NaN</td>\n",
       "      <td>NaN</td>\n",
       "      <td>NaN</td>\n",
       "      <td>NaN</td>\n",
       "    </tr>\n",
       "    <tr>\n",
       "      <th>6</th>\n",
       "      <td>Note(1) PAN would not be displayed on website ...</td>\n",
       "      <td>NaN</td>\n",
       "      <td>NaN</td>\n",
       "      <td>NaN</td>\n",
       "      <td>NaN</td>\n",
       "      <td>NaN</td>\n",
       "      <td>NaN</td>\n",
       "      <td>NaN</td>\n",
       "    </tr>\n",
       "  </tbody>\n",
       "</table>\n",
       "</div>"
      ],
      "text/plain": [
       "                 Category & Name of the Shareholders No. of shareholder  \\\n",
       "1                                                                   NaN   \n",
       "2                                                                   NaN   \n",
       "3                                                                   NaN   \n",
       "4  Details of the shareholders acting as persons ...                NaN   \n",
       "5  Details of Shares which remain unclaimed may b...                NaN   \n",
       "6  Note(1) PAN would not be displayed on website ...                NaN   \n",
       "\n",
       "  No. of fully paid up equity shares held Total no. shares held  \\\n",
       "1                                     NaN                   NaN   \n",
       "2                                     NaN                   NaN   \n",
       "3                                     NaN                   NaN   \n",
       "4                                     NaN                   NaN   \n",
       "5                                     NaN                   NaN   \n",
       "6                                     NaN                   NaN   \n",
       "\n",
       "  Shareholding % calculated as per SCRR, 1957 As a % of (A+B+C2)  \\\n",
       "1                                                NaN               \n",
       "2                                                NaN               \n",
       "3                                                NaN               \n",
       "4                                                NaN               \n",
       "5                                                NaN               \n",
       "6                                                NaN               \n",
       "\n",
       "  No. of Voting Rights Total as a % of Total Voting right  \\\n",
       "1                  NaN                                NaN   \n",
       "2                  NaN                                NaN   \n",
       "3                  NaN                                NaN   \n",
       "4                  NaN                                NaN   \n",
       "5                  NaN                                NaN   \n",
       "6                  NaN                                NaN   \n",
       "\n",
       "  No. of equity shares held in dematerialized form(Not Applicable)  \n",
       "1                                                NaN                \n",
       "2                                                NaN                \n",
       "3                                                NaN                \n",
       "4                                                NaN                \n",
       "5                                                NaN                \n",
       "6                                                NaN                "
      ]
     },
     "execution_count": 60,
     "metadata": {},
     "output_type": "execute_result"
    }
   ],
   "source": [
    "import requests\n",
    "import pandas as pd\n",
    "from lxml import html\n",
    "\n",
    "def get_table_df():\n",
    "    try:\n",
    "        #URL=r'https://www.bseindia.com/corporates/shpPromoterNGroup.aspx?scripcd=532500&qtrid=102.00&QtrName=June%202019'\n",
    "        URL=r'https://www.bseindia.com/corporates/shpPublicShareholder.aspx?scripcd=532500&qtrid=101.00&QtrName=June%202019'\n",
    "        \n",
    "        r = requests.get(URL)\n",
    "        tree = html.fromstring(r.content)\n",
    "        cols=tree.xpath('//*[@class=\"innertable_header1\"]/text()')\n",
    "        df=pd.DataFrame(columns=cols)\n",
    "        for i in range(0,len(cols)):\n",
    "            tr_elements=tree.xpath(f'//tr[3]//td[{i+1}]')\n",
    "            if i==0:\n",
    "                df[cols[i]]=[(T.text_content()) for T in tr_elements][-7:]\n",
    "            #print(tr_elements)\n",
    "            else:\n",
    "                df[cols[i]]=[(T.text_content()) for T in tr_elements]\n",
    "    except ValueError:\n",
    "        print(i)\n",
    "        print(ValueError)\n",
    "    return df.iloc[1:,:]\n",
    "get_table_df()"
   ]
  },
  {
   "cell_type": "code",
   "execution_count": 14,
   "metadata": {
    "collapsed": false
   },
   "outputs": [
    {
     "ename": "NameError",
     "evalue": "name 'tree' is not defined",
     "output_type": "error",
     "traceback": [
      "\u001b[1;31m---------------------------------------------------------------------------\u001b[0m",
      "\u001b[1;31mNameError\u001b[0m                                 Traceback (most recent call last)",
      "\u001b[1;32m<ipython-input-14-b21e77e5658e>\u001b[0m in \u001b[0;36m<module>\u001b[1;34m()\u001b[0m\n\u001b[1;32m----> 1\u001b[1;33m \u001b[1;33m(\u001b[0m\u001b[0mtree\u001b[0m\u001b[1;33m.\u001b[0m\u001b[0mxpath\u001b[0m\u001b[1;33m(\u001b[0m\u001b[1;34m'//*[@class=\"innertable_header1\"]/text()'\u001b[0m\u001b[1;33m)\u001b[0m\u001b[1;33m)\u001b[0m\u001b[1;33m\u001b[0m\u001b[0m\n\u001b[0m",
      "\u001b[1;31mNameError\u001b[0m: name 'tree' is not defined"
     ]
    }
   ],
   "source": [
    "(tree.xpath('//*[@class=\"innertable_header1\"]/text()'))"
   ]
  },
  {
   "cell_type": "code",
   "execution_count": 139,
   "metadata": {
    "collapsed": false
   },
   "outputs": [
    {
     "data": {
      "text/plain": [
       "['Nos. of shareholders',\n",
       " '               ',\n",
       " '               ',\n",
       " '               1',\n",
       " '               1',\n",
       " '               1',\n",
       " '               1']"
      ]
     },
     "execution_count": 139,
     "metadata": {},
     "output_type": "execute_result"
    }
   ],
   "source": [
    "# tr_elements = tree.xpath('//tr[3]//td[2]')\n",
    "# [(T.text_content()) for T in tr_elements]"
   ]
  },
  {
   "cell_type": "code",
   "execution_count": 105,
   "metadata": {
    "collapsed": false
   },
   "outputs": [],
   "source": []
  },
  {
   "cell_type": "code",
   "execution_count": 111,
   "metadata": {
    "collapsed": false
   },
   "outputs": [],
   "source": []
  },
  {
   "cell_type": "code",
   "execution_count": 112,
   "metadata": {
    "collapsed": false
   },
   "outputs": [],
   "source": []
  },
  {
   "cell_type": "code",
   "execution_count": 113,
   "metadata": {
    "collapsed": false
   },
   "outputs": [
    {
     "data": {
      "text/html": [
       "<div>\n",
       "<table border=\"1\" class=\"dataframe\">\n",
       "  <thead>\n",
       "    <tr style=\"text-align: right;\">\n",
       "      <th></th>\n",
       "      <th>Category of shareholder</th>\n",
       "      <th>Nos. of shareholders</th>\n",
       "      <th>No. of fully paid up equity shares held</th>\n",
       "      <th>Total nos. shares held</th>\n",
       "      <th>Shareholding as a % of total no. of shares (calculated as per SCRR, 1957)As a % of (A+B+C2)</th>\n",
       "      <th>Number of equity shares held in dematerialized form</th>\n",
       "    </tr>\n",
       "  </thead>\n",
       "  <tbody>\n",
       "  </tbody>\n",
       "</table>\n",
       "</div>"
      ],
      "text/plain": [
       "Empty DataFrame\n",
       "Columns: [Category of shareholder, Nos. of shareholders, No. of fully paid up equity shares held, Total nos. shares held, Shareholding as a % of total no. of shares (calculated as per SCRR, 1957)As a % of (A+B+C2),  Number of equity shares held in dematerialized form]\n",
       "Index: []"
      ]
     },
     "execution_count": 113,
     "metadata": {},
     "output_type": "execute_result"
    }
   ],
   "source": [
    "df.head()"
   ]
  },
  {
   "cell_type": "code",
   "execution_count": null,
   "metadata": {
    "collapsed": true
   },
   "outputs": [],
   "source": [
    "for i in range(0,len(ll)):\n",
    "    tr_elements=tree.xpath(f'//tr[3]//td[{i+1}]')\n",
    "    #print(tr_elements)\n",
    "    df[cols[i]]=[(T.text_content()) for T in tr_elements]\n",
    "df"
   ]
  },
  {
   "cell_type": "code",
   "execution_count": 138,
   "metadata": {
    "collapsed": false
   },
   "outputs": [
    {
     "data": {
      "text/plain": [
       "['\\r\\n        \\r\\n       \\r\\n        ',\n",
       " 'Category of shareholderNos. of shareholdersNo. of fully paid up equity shares heldTotal nos. shares heldShareholding as a % of total no. of shares (calculated as per SCRR, 1957)As a % of (A+B+C2) Number of equity shares held in dematerialized formA1)\\xa0Indian               0.00A2)\\xa0Foreign               0.00Any Other (specify)               116,97,88,44016,97,88,44056.2116,97,88,440Suzuki Motor Corporation               116,97,88,44016,97,88,44056.2116,97,88,440Sub Total A2               116,97,88,44016,97,88,44056.2116,97,88,440A=A1+A2               116,97,88,44016,97,88,44056.2116,97,88,440',\n",
       " 'Category of shareholder',\n",
       " 'A1)\\xa0Indian',\n",
       " 'A2)\\xa0Foreign',\n",
       " 'Any Other (specify)',\n",
       " 'Suzuki Motor Corporation',\n",
       " 'Sub Total A2',\n",
       " 'A=A1+A2']"
      ]
     },
     "execution_count": 138,
     "metadata": {},
     "output_type": "execute_result"
    }
   ],
   "source": [
    "#df[cols[0]]=[(T.text_content()) for T in tr_elements]\n",
    "#df\n",
    "#df[cols[2]]=[(T.text_content()) for T in tr_elements]\n",
    "#df[cols[1]]=\n",
    "tr_elements=tree.xpath(f'//tr[3]//td[{1}]')\n",
    "([(T.text_content()) for T in tr_elements])"
   ]
  },
  {
   "cell_type": "code",
   "execution_count": 132,
   "metadata": {
    "collapsed": false
   },
   "outputs": [
    {
     "ename": "ValueError",
     "evalue": "Length of values does not match length of index",
     "output_type": "error",
     "traceback": [
      "\u001b[1;31m---------------------------------------------------------------------------\u001b[0m",
      "\u001b[1;31mValueError\u001b[0m                                Traceback (most recent call last)",
      "\u001b[1;32m<ipython-input-132-d8e9a675236e>\u001b[0m in \u001b[0;36m<module>\u001b[1;34m()\u001b[0m\n\u001b[0;32m      2\u001b[0m     \u001b[0mtr_elements\u001b[0m\u001b[1;33m=\u001b[0m\u001b[0mtree\u001b[0m\u001b[1;33m.\u001b[0m\u001b[0mxpath\u001b[0m\u001b[1;33m(\u001b[0m\u001b[1;34mf'//tr[3]//td[{i+1}]'\u001b[0m\u001b[1;33m)\u001b[0m\u001b[1;33m\u001b[0m\u001b[0m\n\u001b[0;32m      3\u001b[0m     \u001b[1;31m#print(tr_elements)\u001b[0m\u001b[1;33m\u001b[0m\u001b[1;33m\u001b[0m\u001b[0m\n\u001b[1;32m----> 4\u001b[1;33m     \u001b[0mdf\u001b[0m\u001b[1;33m[\u001b[0m\u001b[0mcols\u001b[0m\u001b[1;33m[\u001b[0m\u001b[0mi\u001b[0m\u001b[1;33m]\u001b[0m\u001b[1;33m]\u001b[0m\u001b[1;33m=\u001b[0m\u001b[1;33m[\u001b[0m\u001b[1;33m(\u001b[0m\u001b[0mT\u001b[0m\u001b[1;33m.\u001b[0m\u001b[0mtext_content\u001b[0m\u001b[1;33m(\u001b[0m\u001b[1;33m)\u001b[0m\u001b[1;33m)\u001b[0m \u001b[1;32mfor\u001b[0m \u001b[0mT\u001b[0m \u001b[1;32min\u001b[0m \u001b[0mtr_elements\u001b[0m\u001b[1;33m]\u001b[0m\u001b[1;33m\u001b[0m\u001b[0m\n\u001b[0m\u001b[0;32m      5\u001b[0m \u001b[1;33m\u001b[0m\u001b[0m\n\u001b[0;32m      6\u001b[0m \u001b[0mdf\u001b[0m\u001b[1;33m\u001b[0m\u001b[0m\n",
      "\u001b[1;32m~\\AppData\\Local\\Continuum\\Anaconda3\\lib\\site-packages\\pandas\\core\\frame.py\u001b[0m in \u001b[0;36m__setitem__\u001b[1;34m(self, key, value)\u001b[0m\n\u001b[0;32m   2417\u001b[0m         \u001b[1;32melse\u001b[0m\u001b[1;33m:\u001b[0m\u001b[1;33m\u001b[0m\u001b[0m\n\u001b[0;32m   2418\u001b[0m             \u001b[1;31m# set column\u001b[0m\u001b[1;33m\u001b[0m\u001b[1;33m\u001b[0m\u001b[0m\n\u001b[1;32m-> 2419\u001b[1;33m             \u001b[0mself\u001b[0m\u001b[1;33m.\u001b[0m\u001b[0m_set_item\u001b[0m\u001b[1;33m(\u001b[0m\u001b[0mkey\u001b[0m\u001b[1;33m,\u001b[0m \u001b[0mvalue\u001b[0m\u001b[1;33m)\u001b[0m\u001b[1;33m\u001b[0m\u001b[0m\n\u001b[0m\u001b[0;32m   2420\u001b[0m \u001b[1;33m\u001b[0m\u001b[0m\n\u001b[0;32m   2421\u001b[0m     \u001b[1;32mdef\u001b[0m \u001b[0m_setitem_slice\u001b[0m\u001b[1;33m(\u001b[0m\u001b[0mself\u001b[0m\u001b[1;33m,\u001b[0m \u001b[0mkey\u001b[0m\u001b[1;33m,\u001b[0m \u001b[0mvalue\u001b[0m\u001b[1;33m)\u001b[0m\u001b[1;33m:\u001b[0m\u001b[1;33m\u001b[0m\u001b[0m\n",
      "\u001b[1;32m~\\AppData\\Local\\Continuum\\Anaconda3\\lib\\site-packages\\pandas\\core\\frame.py\u001b[0m in \u001b[0;36m_set_item\u001b[1;34m(self, key, value)\u001b[0m\n\u001b[0;32m   2483\u001b[0m \u001b[1;33m\u001b[0m\u001b[0m\n\u001b[0;32m   2484\u001b[0m         \u001b[0mself\u001b[0m\u001b[1;33m.\u001b[0m\u001b[0m_ensure_valid_index\u001b[0m\u001b[1;33m(\u001b[0m\u001b[0mvalue\u001b[0m\u001b[1;33m)\u001b[0m\u001b[1;33m\u001b[0m\u001b[0m\n\u001b[1;32m-> 2485\u001b[1;33m         \u001b[0mvalue\u001b[0m \u001b[1;33m=\u001b[0m \u001b[0mself\u001b[0m\u001b[1;33m.\u001b[0m\u001b[0m_sanitize_column\u001b[0m\u001b[1;33m(\u001b[0m\u001b[0mkey\u001b[0m\u001b[1;33m,\u001b[0m \u001b[0mvalue\u001b[0m\u001b[1;33m)\u001b[0m\u001b[1;33m\u001b[0m\u001b[0m\n\u001b[0m\u001b[0;32m   2486\u001b[0m         \u001b[0mNDFrame\u001b[0m\u001b[1;33m.\u001b[0m\u001b[0m_set_item\u001b[0m\u001b[1;33m(\u001b[0m\u001b[0mself\u001b[0m\u001b[1;33m,\u001b[0m \u001b[0mkey\u001b[0m\u001b[1;33m,\u001b[0m \u001b[0mvalue\u001b[0m\u001b[1;33m)\u001b[0m\u001b[1;33m\u001b[0m\u001b[0m\n\u001b[0;32m   2487\u001b[0m \u001b[1;33m\u001b[0m\u001b[0m\n",
      "\u001b[1;32m~\\AppData\\Local\\Continuum\\Anaconda3\\lib\\site-packages\\pandas\\core\\frame.py\u001b[0m in \u001b[0;36m_sanitize_column\u001b[1;34m(self, key, value, broadcast)\u001b[0m\n\u001b[0;32m   2654\u001b[0m \u001b[1;33m\u001b[0m\u001b[0m\n\u001b[0;32m   2655\u001b[0m             \u001b[1;31m# turn me into an ndarray\u001b[0m\u001b[1;33m\u001b[0m\u001b[1;33m\u001b[0m\u001b[0m\n\u001b[1;32m-> 2656\u001b[1;33m             \u001b[0mvalue\u001b[0m \u001b[1;33m=\u001b[0m \u001b[0m_sanitize_index\u001b[0m\u001b[1;33m(\u001b[0m\u001b[0mvalue\u001b[0m\u001b[1;33m,\u001b[0m \u001b[0mself\u001b[0m\u001b[1;33m.\u001b[0m\u001b[0mindex\u001b[0m\u001b[1;33m,\u001b[0m \u001b[0mcopy\u001b[0m\u001b[1;33m=\u001b[0m\u001b[1;32mFalse\u001b[0m\u001b[1;33m)\u001b[0m\u001b[1;33m\u001b[0m\u001b[0m\n\u001b[0m\u001b[0;32m   2657\u001b[0m             \u001b[1;32mif\u001b[0m \u001b[1;32mnot\u001b[0m \u001b[0misinstance\u001b[0m\u001b[1;33m(\u001b[0m\u001b[0mvalue\u001b[0m\u001b[1;33m,\u001b[0m \u001b[1;33m(\u001b[0m\u001b[0mnp\u001b[0m\u001b[1;33m.\u001b[0m\u001b[0mndarray\u001b[0m\u001b[1;33m,\u001b[0m \u001b[0mIndex\u001b[0m\u001b[1;33m)\u001b[0m\u001b[1;33m)\u001b[0m\u001b[1;33m:\u001b[0m\u001b[1;33m\u001b[0m\u001b[0m\n\u001b[0;32m   2658\u001b[0m                 \u001b[1;32mif\u001b[0m \u001b[0misinstance\u001b[0m\u001b[1;33m(\u001b[0m\u001b[0mvalue\u001b[0m\u001b[1;33m,\u001b[0m \u001b[0mlist\u001b[0m\u001b[1;33m)\u001b[0m \u001b[1;32mand\u001b[0m \u001b[0mlen\u001b[0m\u001b[1;33m(\u001b[0m\u001b[0mvalue\u001b[0m\u001b[1;33m)\u001b[0m \u001b[1;33m>\u001b[0m \u001b[1;36m0\u001b[0m\u001b[1;33m:\u001b[0m\u001b[1;33m\u001b[0m\u001b[0m\n",
      "\u001b[1;32m~\\AppData\\Local\\Continuum\\Anaconda3\\lib\\site-packages\\pandas\\core\\series.py\u001b[0m in \u001b[0;36m_sanitize_index\u001b[1;34m(data, index, copy)\u001b[0m\n\u001b[0;32m   2798\u001b[0m \u001b[1;33m\u001b[0m\u001b[0m\n\u001b[0;32m   2799\u001b[0m     \u001b[1;32mif\u001b[0m \u001b[0mlen\u001b[0m\u001b[1;33m(\u001b[0m\u001b[0mdata\u001b[0m\u001b[1;33m)\u001b[0m \u001b[1;33m!=\u001b[0m \u001b[0mlen\u001b[0m\u001b[1;33m(\u001b[0m\u001b[0mindex\u001b[0m\u001b[1;33m)\u001b[0m\u001b[1;33m:\u001b[0m\u001b[1;33m\u001b[0m\u001b[0m\n\u001b[1;32m-> 2800\u001b[1;33m         \u001b[1;32mraise\u001b[0m \u001b[0mValueError\u001b[0m\u001b[1;33m(\u001b[0m\u001b[1;34m'Length of values does not match length of '\u001b[0m \u001b[1;34m'index'\u001b[0m\u001b[1;33m)\u001b[0m\u001b[1;33m\u001b[0m\u001b[0m\n\u001b[0m\u001b[0;32m   2801\u001b[0m \u001b[1;33m\u001b[0m\u001b[0m\n\u001b[0;32m   2802\u001b[0m     \u001b[1;32mif\u001b[0m \u001b[0misinstance\u001b[0m\u001b[1;33m(\u001b[0m\u001b[0mdata\u001b[0m\u001b[1;33m,\u001b[0m \u001b[0mPeriodIndex\u001b[0m\u001b[1;33m)\u001b[0m\u001b[1;33m:\u001b[0m\u001b[1;33m\u001b[0m\u001b[0m\n",
      "\u001b[1;31mValueError\u001b[0m: Length of values does not match length of index"
     ]
    }
   ],
   "source": [
    "for i in range(0,len(ll)):\n",
    "    tr_elements=tree.xpath(f'//tr[3]//td[{i+1}]')\n",
    "    #print(tr_elements)\n",
    "    df[cols[i]]=[(T.text_content()) for T in tr_elements]\n",
    "df"
   ]
  },
  {
   "cell_type": "code",
   "execution_count": 36,
   "metadata": {
    "collapsed": false
   },
   "outputs": [
    {
     "name": "stdout",
     "output_type": "stream",
     "text": [
      "Empty DataFrame\n",
      "Columns: []\n",
      "Index: [0, 1]\n"
     ]
    }
   ],
   "source": [
    "import lxml.html as LH\n",
    "import requests\n",
    "import pandas as pd\n",
    "def text(elt):\n",
    "    return elt.text_content().replace(u'\\xa0', u' ')\n",
    "\n",
    "url = URL\n",
    "r = requests.get(url)\n",
    "root = LH.fromstring(r.content)\n",
    "\n",
    "for table in root.xpath(table_xpath):\n",
    "    header = [text(th) for th in table.xpath('//th')]        # 1\n",
    "    data = [[text(td) for td in tr.xpath('td')]  \n",
    "            for tr in table.xpath('//tr')]                   # 2\n",
    "    data = [row for row in data if len(row)==len(header)]    # 3 \n",
    "    data = pd.DataFrame(data, columns=header)                # 4\n",
    "    print(data)"
   ]
  },
  {
   "cell_type": "code",
   "execution_count": 35,
   "metadata": {
    "collapsed": false
   },
   "outputs": [
    {
     "name": "stdout",
     "output_type": "stream",
     "text": [
      "None\n"
     ]
    }
   ],
   "source": [
    "for i in tab:\n",
    "    print(i.base_url)"
   ]
  },
  {
   "cell_type": "code",
   "execution_count": 61,
   "metadata": {
    "collapsed": false
   },
   "outputs": [
    {
     "data": {
      "text/plain": [
       "[                                                   0   \\\n",
       " 0                                                 NaN   \n",
       " 1                                                 NaN   \n",
       " 2                                                 NaN   \n",
       " 3                                Shareholding Pattern   \n",
       " 4                                                 NaN   \n",
       " 5   MARUTI SUZUKI INDIA LTD.Scrip Code : 532500Qua...   \n",
       " 6   MARUTI SUZUKI INDIA LTD.Scrip Code : 532500Qua...   \n",
       " 7                            MARUTI SUZUKI INDIA LTD.   \n",
       " 8                                 Scrip Code : 532500   \n",
       " 9   Statement showing shareholding pattern of the ...   \n",
       " 10  Category of shareholderNos. of shareholdersNo....   \n",
       " 11                            Category of shareholder   \n",
       " 12                                                NaN   \n",
       " 13                                                NaN   \n",
       " 14                                         A1) Indian   \n",
       " 15                                        A2) Foreign   \n",
       " 16                                Any Other (specify)   \n",
       " 17                           Suzuki Motor Corporation   \n",
       " 18                                       Sub Total A2   \n",
       " 19                                            A=A1+A2   \n",
       " 20                                                NaN   \n",
       " \n",
       "                                                    1   \\\n",
       " 0                                                 NaN   \n",
       " 1                                                 NaN   \n",
       " 2                                                 NaN   \n",
       " 3                                                 NaN   \n",
       " 4                                                 NaN   \n",
       " 5   MARUTI SUZUKI INDIA LTD.Scrip Code : 532500Qua...   \n",
       " 6                            MARUTI SUZUKI INDIA LTD.   \n",
       " 7                                                 NaN   \n",
       " 8                          Quarter Ending : June 2019   \n",
       " 9                                                 NaN   \n",
       " 10                            Category of shareholder   \n",
       " 11                               Nos. of shareholders   \n",
       " 12                                                NaN   \n",
       " 13                                                NaN   \n",
       " 14                                                NaN   \n",
       " 15                                                NaN   \n",
       " 16                                                  1   \n",
       " 17                                                  1   \n",
       " 18                                                  1   \n",
       " 19                                                  1   \n",
       " 20                                                NaN   \n",
       " \n",
       "                                          2   \\\n",
       " 0                                       NaN   \n",
       " 1                                       NaN   \n",
       " 2                                       NaN   \n",
       " 3                                       NaN   \n",
       " 4                                       NaN   \n",
       " 5                  MARUTI SUZUKI INDIA LTD.   \n",
       " 6                       Scrip Code : 532500   \n",
       " 7                                       NaN   \n",
       " 8                                       NaN   \n",
       " 9                                       NaN   \n",
       " 10                     Nos. of shareholders   \n",
       " 11  No. of fully paid up equity shares held   \n",
       " 12                                      NaN   \n",
       " 13                                      NaN   \n",
       " 14                                      NaN   \n",
       " 15                                      NaN   \n",
       " 16                                169788440   \n",
       " 17                                169788440   \n",
       " 18                                169788440   \n",
       " 19                                169788440   \n",
       " 20                                      NaN   \n",
       " \n",
       "                                          3   \\\n",
       " 0                                       NaN   \n",
       " 1                                       NaN   \n",
       " 2                                       NaN   \n",
       " 3                                       NaN   \n",
       " 4                                       NaN   \n",
       " 5                       Scrip Code : 532500   \n",
       " 6                Quarter Ending : June 2019   \n",
       " 7                                       NaN   \n",
       " 8                                       NaN   \n",
       " 9                                       NaN   \n",
       " 10  No. of fully paid up equity shares held   \n",
       " 11                   Total nos. shares held   \n",
       " 12                                      NaN   \n",
       " 13                                      NaN   \n",
       " 14                                      NaN   \n",
       " 15                                      NaN   \n",
       " 16                                169788440   \n",
       " 17                                169788440   \n",
       " 18                                169788440   \n",
       " 19                                169788440   \n",
       " 20                                      NaN   \n",
       " \n",
       "                                                    4   \\\n",
       " 0                                                 NaN   \n",
       " 1                                                 NaN   \n",
       " 2                                                 NaN   \n",
       " 3                                                 NaN   \n",
       " 4                                                 NaN   \n",
       " 5                          Quarter Ending : June 2019   \n",
       " 6                                                 NaN   \n",
       " 7                                                 NaN   \n",
       " 8                                                 NaN   \n",
       " 9                                                 NaN   \n",
       " 10                             Total nos. shares held   \n",
       " 11  Shareholding as a % of total no. of shares (ca...   \n",
       " 12                                                NaN   \n",
       " 13                                                NaN   \n",
       " 14                                               0.00   \n",
       " 15                                               0.00   \n",
       " 16                                              56.21   \n",
       " 17                                              56.21   \n",
       " 18                                              56.21   \n",
       " 19                                              56.21   \n",
       " 20                                                NaN   \n",
       " \n",
       "                                                    5   \\\n",
       " 0                                                 NaN   \n",
       " 1                                                 NaN   \n",
       " 2                                                 NaN   \n",
       " 3                                                 NaN   \n",
       " 4                                                 NaN   \n",
       " 5   Statement showing shareholding pattern of the ...   \n",
       " 6                                                 NaN   \n",
       " 7                                                 NaN   \n",
       " 8                                                 NaN   \n",
       " 9                                                 NaN   \n",
       " 10  Shareholding as a % of total no. of shares (ca...   \n",
       " 11  Number of equity shares held in dematerialized...   \n",
       " 12                                                NaN   \n",
       " 13                                                NaN   \n",
       " 14                                                NaN   \n",
       " 15                                                NaN   \n",
       " 16                                          169788440   \n",
       " 17                                          169788440   \n",
       " 18                                          169788440   \n",
       " 19                                          169788440   \n",
       " 20                                                NaN   \n",
       " \n",
       "                                                    6   \\\n",
       " 0                                                 NaN   \n",
       " 1                                                 NaN   \n",
       " 2                                                 NaN   \n",
       " 3                                                 NaN   \n",
       " 4                                                 NaN   \n",
       " 5   Category of shareholderNos. of shareholdersNo....   \n",
       " 6                                                 NaN   \n",
       " 7                                                 NaN   \n",
       " 8                                                 NaN   \n",
       " 9                                                 NaN   \n",
       " 10  Number of equity shares held in dematerialized...   \n",
       " 11                                                NaN   \n",
       " 12                                                NaN   \n",
       " 13                                                NaN   \n",
       " 14                                                NaN   \n",
       " 15                                                NaN   \n",
       " 16                                                NaN   \n",
       " 17                                                NaN   \n",
       " 18                                                NaN   \n",
       " 19                                                NaN   \n",
       " 20                                                NaN   \n",
       " \n",
       "                          7                     8   \\\n",
       " 0                       NaN                   NaN   \n",
       " 1                       NaN                   NaN   \n",
       " 2                       NaN                   NaN   \n",
       " 3                       NaN                   NaN   \n",
       " 4                       NaN                   NaN   \n",
       " 5   Category of shareholder  Nos. of shareholders   \n",
       " 6                       NaN                   NaN   \n",
       " 7                       NaN                   NaN   \n",
       " 8                       NaN                   NaN   \n",
       " 9                       NaN                   NaN   \n",
       " 10               A1) Indian                   NaN   \n",
       " 11                      NaN                   NaN   \n",
       " 12                      NaN                   NaN   \n",
       " 13                      NaN                   NaN   \n",
       " 14                      NaN                   NaN   \n",
       " 15                      NaN                   NaN   \n",
       " 16                      NaN                   NaN   \n",
       " 17                      NaN                   NaN   \n",
       " 18                      NaN                   NaN   \n",
       " 19                      NaN                   NaN   \n",
       " 20                      NaN                   NaN   \n",
       " \n",
       "                                          9      ...                39  \\\n",
       " 0                                       NaN     ...               NaN   \n",
       " 1                                       NaN     ...               NaN   \n",
       " 2                                       NaN     ...               NaN   \n",
       " 3                                       NaN     ...               NaN   \n",
       " 4                                       NaN     ...               NaN   \n",
       " 5   No. of fully paid up equity shares held     ...       169788440.0   \n",
       " 6                                       NaN     ...               NaN   \n",
       " 7                                       NaN     ...               NaN   \n",
       " 8                                       NaN     ...               NaN   \n",
       " 9                                       NaN     ...               NaN   \n",
       " 10                                      NaN     ...       169788440.0   \n",
       " 11                                      NaN     ...               NaN   \n",
       " 12                                      NaN     ...               NaN   \n",
       " 13                                      NaN     ...               NaN   \n",
       " 14                                      NaN     ...               NaN   \n",
       " 15                                      NaN     ...               NaN   \n",
       " 16                                      NaN     ...               NaN   \n",
       " 17                                      NaN     ...               NaN   \n",
       " 18                                      NaN     ...               NaN   \n",
       " 19                                      NaN     ...               NaN   \n",
       " 20                                      NaN     ...               NaN   \n",
       " \n",
       "              40     41           42       43   44           45           46  \\\n",
       " 0           NaN    NaN          NaN      NaN  NaN          NaN          NaN   \n",
       " 1           NaN    NaN          NaN      NaN  NaN          NaN          NaN   \n",
       " 2           NaN    NaN          NaN      NaN  NaN          NaN          NaN   \n",
       " 3           NaN    NaN          NaN      NaN  NaN          NaN          NaN   \n",
       " 4           NaN    NaN          NaN      NaN  NaN          NaN          NaN   \n",
       " 5   169788440.0  56.21  169788440.0  A=A1+A2  1.0  169788440.0  169788440.0   \n",
       " 6           NaN    NaN          NaN      NaN  NaN          NaN          NaN   \n",
       " 7           NaN    NaN          NaN      NaN  NaN          NaN          NaN   \n",
       " 8           NaN    NaN          NaN      NaN  NaN          NaN          NaN   \n",
       " 9           NaN    NaN          NaN      NaN  NaN          NaN          NaN   \n",
       " 10  169788440.0  56.21  169788440.0      NaN  NaN          NaN          NaN   \n",
       " 11          NaN    NaN          NaN      NaN  NaN          NaN          NaN   \n",
       " 12          NaN    NaN          NaN      NaN  NaN          NaN          NaN   \n",
       " 13          NaN    NaN          NaN      NaN  NaN          NaN          NaN   \n",
       " 14          NaN    NaN          NaN      NaN  NaN          NaN          NaN   \n",
       " 15          NaN    NaN          NaN      NaN  NaN          NaN          NaN   \n",
       " 16          NaN    NaN          NaN      NaN  NaN          NaN          NaN   \n",
       " 17          NaN    NaN          NaN      NaN  NaN          NaN          NaN   \n",
       " 18          NaN    NaN          NaN      NaN  NaN          NaN          NaN   \n",
       " 19          NaN    NaN          NaN      NaN  NaN          NaN          NaN   \n",
       " 20          NaN    NaN          NaN      NaN  NaN          NaN          NaN   \n",
       " \n",
       "        47           48  \n",
       " 0     NaN          NaN  \n",
       " 1     NaN          NaN  \n",
       " 2     NaN          NaN  \n",
       " 3     NaN          NaN  \n",
       " 4     NaN          NaN  \n",
       " 5   56.21  169788440.0  \n",
       " 6     NaN          NaN  \n",
       " 7     NaN          NaN  \n",
       " 8     NaN          NaN  \n",
       " 9     NaN          NaN  \n",
       " 10    NaN          NaN  \n",
       " 11    NaN          NaN  \n",
       " 12    NaN          NaN  \n",
       " 13    NaN          NaN  \n",
       " 14    NaN          NaN  \n",
       " 15    NaN          NaN  \n",
       " 16    NaN          NaN  \n",
       " 17    NaN          NaN  \n",
       " 18    NaN          NaN  \n",
       " 19    NaN          NaN  \n",
       " 20    NaN          NaN  \n",
       " \n",
       " [21 rows x 49 columns],\n",
       "                                                    0   \\\n",
       " 0   MARUTI SUZUKI INDIA LTD.Scrip Code : 532500Qua...   \n",
       " 1                            MARUTI SUZUKI INDIA LTD.   \n",
       " 2                                 Scrip Code : 532500   \n",
       " 3   Statement showing shareholding pattern of the ...   \n",
       " 4   Category of shareholderNos. of shareholdersNo....   \n",
       " 5                             Category of shareholder   \n",
       " 6                                                 NaN   \n",
       " 7                                                 NaN   \n",
       " 8                                          A1) Indian   \n",
       " 9                                         A2) Foreign   \n",
       " 10                                Any Other (specify)   \n",
       " 11                           Suzuki Motor Corporation   \n",
       " 12                                       Sub Total A2   \n",
       " 13                                            A=A1+A2   \n",
       " \n",
       "                             1                                        2   \\\n",
       " 0     MARUTI SUZUKI INDIA LTD.                      Scrip Code : 532500   \n",
       " 1                          NaN                                      NaN   \n",
       " 2   Quarter Ending : June 2019                                      NaN   \n",
       " 3                          NaN                                      NaN   \n",
       " 4      Category of shareholder                     Nos. of shareholders   \n",
       " 5         Nos. of shareholders  No. of fully paid up equity shares held   \n",
       " 6                          NaN                                      NaN   \n",
       " 7                          NaN                                      NaN   \n",
       " 8                          NaN                                      NaN   \n",
       " 9                          NaN                                      NaN   \n",
       " 10                           1                                169788440   \n",
       " 11                           1                                169788440   \n",
       " 12                           1                                169788440   \n",
       " 13                           1                                169788440   \n",
       " \n",
       "                                          3   \\\n",
       " 0                Quarter Ending : June 2019   \n",
       " 1                                       NaN   \n",
       " 2                                       NaN   \n",
       " 3                                       NaN   \n",
       " 4   No. of fully paid up equity shares held   \n",
       " 5                    Total nos. shares held   \n",
       " 6                                       NaN   \n",
       " 7                                       NaN   \n",
       " 8                                       NaN   \n",
       " 9                                       NaN   \n",
       " 10                                169788440   \n",
       " 11                                169788440   \n",
       " 12                                169788440   \n",
       " 13                                169788440   \n",
       " \n",
       "                                                    4   \\\n",
       " 0                                                 NaN   \n",
       " 1                                                 NaN   \n",
       " 2                                                 NaN   \n",
       " 3                                                 NaN   \n",
       " 4                              Total nos. shares held   \n",
       " 5   Shareholding as a % of total no. of shares (ca...   \n",
       " 6                                                 NaN   \n",
       " 7                                                 NaN   \n",
       " 8                                                0.00   \n",
       " 9                                                0.00   \n",
       " 10                                              56.21   \n",
       " 11                                              56.21   \n",
       " 12                                              56.21   \n",
       " 13                                              56.21   \n",
       " \n",
       "                                                    5   \\\n",
       " 0                                                 NaN   \n",
       " 1                                                 NaN   \n",
       " 2                                                 NaN   \n",
       " 3                                                 NaN   \n",
       " 4   Shareholding as a % of total no. of shares (ca...   \n",
       " 5   Number of equity shares held in dematerialized...   \n",
       " 6                                                 NaN   \n",
       " 7                                                 NaN   \n",
       " 8                                                 NaN   \n",
       " 9                                                 NaN   \n",
       " 10                                          169788440   \n",
       " 11                                          169788440   \n",
       " 12                                          169788440   \n",
       " 13                                          169788440   \n",
       " \n",
       "                                                    6           7   8   9   \\\n",
       " 0                                                 NaN         NaN NaN NaN   \n",
       " 1                                                 NaN         NaN NaN NaN   \n",
       " 2                                                 NaN         NaN NaN NaN   \n",
       " 3                                                 NaN         NaN NaN NaN   \n",
       " 4   Number of equity shares held in dematerialized...  A1) Indian NaN NaN   \n",
       " 5                                                 NaN         NaN NaN NaN   \n",
       " 6                                                 NaN         NaN NaN NaN   \n",
       " 7                                                 NaN         NaN NaN NaN   \n",
       " 8                                                 NaN         NaN NaN NaN   \n",
       " 9                                                 NaN         NaN NaN NaN   \n",
       " 10                                                NaN         NaN NaN NaN   \n",
       " 11                                                NaN         NaN NaN NaN   \n",
       " 12                                                NaN         NaN NaN NaN   \n",
       " 13                                                NaN         NaN NaN NaN   \n",
       " \n",
       "        ...                33           34     35           36       37   38  \\\n",
       " 0      ...               NaN          NaN    NaN          NaN      NaN  NaN   \n",
       " 1      ...               NaN          NaN    NaN          NaN      NaN  NaN   \n",
       " 2      ...               NaN          NaN    NaN          NaN      NaN  NaN   \n",
       " 3      ...               NaN          NaN    NaN          NaN      NaN  NaN   \n",
       " 4      ...       169788440.0  169788440.0  56.21  169788440.0  A=A1+A2  1.0   \n",
       " 5      ...               NaN          NaN    NaN          NaN      NaN  NaN   \n",
       " 6      ...               NaN          NaN    NaN          NaN      NaN  NaN   \n",
       " 7      ...               NaN          NaN    NaN          NaN      NaN  NaN   \n",
       " 8      ...               NaN          NaN    NaN          NaN      NaN  NaN   \n",
       " 9      ...               NaN          NaN    NaN          NaN      NaN  NaN   \n",
       " 10     ...               NaN          NaN    NaN          NaN      NaN  NaN   \n",
       " 11     ...               NaN          NaN    NaN          NaN      NaN  NaN   \n",
       " 12     ...               NaN          NaN    NaN          NaN      NaN  NaN   \n",
       " 13     ...               NaN          NaN    NaN          NaN      NaN  NaN   \n",
       " \n",
       "              39           40     41           42  \n",
       " 0           NaN          NaN    NaN          NaN  \n",
       " 1           NaN          NaN    NaN          NaN  \n",
       " 2           NaN          NaN    NaN          NaN  \n",
       " 3           NaN          NaN    NaN          NaN  \n",
       " 4   169788440.0  169788440.0  56.21  169788440.0  \n",
       " 5           NaN          NaN    NaN          NaN  \n",
       " 6           NaN          NaN    NaN          NaN  \n",
       " 7           NaN          NaN    NaN          NaN  \n",
       " 8           NaN          NaN    NaN          NaN  \n",
       " 9           NaN          NaN    NaN          NaN  \n",
       " 10          NaN          NaN    NaN          NaN  \n",
       " 11          NaN          NaN    NaN          NaN  \n",
       " 12          NaN          NaN    NaN          NaN  \n",
       " 13          NaN          NaN    NaN          NaN  \n",
       " \n",
       " [14 rows x 43 columns],\n",
       "                           0                           1\n",
       " 0  MARUTI SUZUKI INDIA LTD.                         NaN\n",
       " 1       Scrip Code : 532500  Quarter Ending : June 2019,\n",
       "                           0                     1  \\\n",
       " 0   Category of shareholder  Nos. of shareholders   \n",
       " 1                       NaN                   NaN   \n",
       " 2                       NaN                   NaN   \n",
       " 3                A1) Indian                   NaN   \n",
       " 4               A2) Foreign                   NaN   \n",
       " 5       Any Other (specify)                     1   \n",
       " 6  Suzuki Motor Corporation                     1   \n",
       " 7              Sub Total A2                     1   \n",
       " 8                   A=A1+A2                     1   \n",
       " \n",
       "                                          2                       3  \\\n",
       " 0  No. of fully paid up equity shares held  Total nos. shares held   \n",
       " 1                                      NaN                     NaN   \n",
       " 2                                      NaN                     NaN   \n",
       " 3                                      NaN                     NaN   \n",
       " 4                                      NaN                     NaN   \n",
       " 5                                169788440               169788440   \n",
       " 6                                169788440               169788440   \n",
       " 7                                169788440               169788440   \n",
       " 8                                169788440               169788440   \n",
       " \n",
       "                                                    4  \\\n",
       " 0  Shareholding as a % of total no. of shares (ca...   \n",
       " 1                                                NaN   \n",
       " 2                                                NaN   \n",
       " 3                                               0.00   \n",
       " 4                                               0.00   \n",
       " 5                                              56.21   \n",
       " 6                                              56.21   \n",
       " 7                                              56.21   \n",
       " 8                                              56.21   \n",
       " \n",
       "                                                    5  \n",
       " 0  Number of equity shares held in dematerialized...  \n",
       " 1                                                NaN  \n",
       " 2                                                NaN  \n",
       " 3                                                NaN  \n",
       " 4                                                NaN  \n",
       " 5                                          169788440  \n",
       " 6                                          169788440  \n",
       " 7                                          169788440  \n",
       " 8                                          169788440  ]"
      ]
     },
     "execution_count": 61,
     "metadata": {},
     "output_type": "execute_result"
    }
   ],
   "source": [
    "df=pd.read_html(URL)\n",
    "df"
   ]
  },
  {
   "cell_type": "code",
   "execution_count": null,
   "metadata": {
    "collapsed": true
   },
   "outputs": [],
   "source": []
  }
 ],
 "metadata": {
  "kernelspec": {
   "display_name": "Python 3",
   "language": "python",
   "name": "python3"
  },
  "language_info": {
   "codemirror_mode": {
    "name": "ipython",
    "version": 3
   },
   "file_extension": ".py",
   "mimetype": "text/x-python",
   "name": "python",
   "nbconvert_exporter": "python",
   "pygments_lexer": "ipython3",
   "version": "3.6.0"
  }
 },
 "nbformat": 4,
 "nbformat_minor": 2
}
