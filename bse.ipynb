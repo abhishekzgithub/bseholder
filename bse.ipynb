{
 "cells": [
  {
   "cell_type": "code",
   "execution_count": 3,
   "metadata": {
    "collapsed": false
   },
   "outputs": [],
   "source": [
    "import requests\n",
    "import pandas as pd\n",
    "from lxml import html"
   ]
  },
  {
   "cell_type": "code",
   "execution_count": 74,
   "metadata": {
    "collapsed": false,
    "scrolled": true
   },
   "outputs": [
    {
     "data": {
      "text/html": [
       "<div>\n",
       "<table border=\"1\" class=\"dataframe\">\n",
       "  <thead>\n",
       "    <tr style=\"text-align: right;\">\n",
       "      <th></th>\n",
       "    </tr>\n",
       "  </thead>\n",
       "  <tbody>\n",
       "  </tbody>\n",
       "</table>\n",
       "</div>"
      ],
      "text/plain": [
       "Empty DataFrame\n",
       "Columns: []\n",
       "Index: []"
      ]
     },
     "execution_count": 74,
     "metadata": {},
     "output_type": "execute_result"
    }
   ],
   "source": [
    "#def get_table_promoter_n_group_df(URL):\n",
    "URL='https://www.bseindia.com/corporates/shpPromoterNGroup.aspx?scripcd=523261&qtrid=102.00&QtrName=June%202019'\n",
    "try:\n",
    "    #URL=r'https://www.bseindia.com/corporates/shpPromoterNGroup.aspx?scripcd=532500&qtrid=102.00&QtrName=June%202019'\n",
    "    r = requests.get(URL)\n",
    "    tree = html.fromstring(r.content)\n",
    "    cols=tree.xpath('//*[@class=\"innertable_header1\"]/text()')\n",
    "    cols=tree.xpath('//*[@id=\"tdData\"]/table/tbody/tr[3]/td/table/tbody/tr[1]/td')\n",
    "    df=pd.DataFrame(columns=cols)\n",
    "    for i in range(0,len(cols)):\n",
    "        try:\n",
    "            tr_elements=tree.xpath(f'//tr[3]//td[{i+1}]')\n",
    "            if i==0:\n",
    "                df[cols[i]]=[(T.text_content()) for T in tr_elements][-7:]\n",
    "            else:\n",
    "                df[cols[i]]=[(T.text_content()) for T in tr_elements]\n",
    "        except Exception as e:\n",
    "            print(e)\n",
    "            print(i+1)\n",
    "            continue\n",
    "except ValueError as v:\n",
    "    print(i)\n",
    "    print(v)\n",
    "    #return df.iloc[1:,:]\n",
    "df.iloc[1:,:]"
   ]
  },
  {
   "cell_type": "code",
   "execution_count": 83,
   "metadata": {
    "collapsed": false
   },
   "outputs": [
    {
     "data": {
      "text/plain": [
       "[]"
      ]
     },
     "execution_count": 83,
     "metadata": {},
     "output_type": "execute_result"
    }
   ],
   "source": [
    "# tr_elements=tree.xpath(r'//*[@id=\"tdData\"]/table/tbody/tr[3]/td/table/tbody/tr[1]/td')\n",
    "# [(T) for T in tr_elements]\n",
    "# #tr_elements"
   ]
  },
  {
   "cell_type": "code",
   "execution_count": 90,
   "metadata": {
    "collapsed": false
   },
   "outputs": [],
   "source": [
    "URL='https://www.bseindia.com/corporates/shpPromoterNGroup.aspx?scripcd=523261&qtrid=102.00&QtrName=June%202019'\n",
    "#URL='https://www.bseindia.com/corporates/shpPromoterNGroup.aspx?scripcd=533022&qtrid=102.00&QtrName=June%202019'\n",
    "URL='https://www.bseindia.com/corporates/shpPromoterNGroup.aspx?scripcd=531921&qtrid=102.00&QtrName=June%202019'\n",
    "r = requests.get(URL)\n",
    "tree = html.fromstring(r.content)\n",
    "#cols=tree.xpath('//*[@id=\"tdData\"]/table/tbody/tr[3]/td/table/tbody/tr[1]/td[1]')\n",
    "#cols=tree.xpath('//*[@id=\"tdData\"]/table/tbody/tr[3]/td/table/tbody/tr[2]/td[1]')\n",
    "cols=tree.find_class('TTRow_right')\n"
   ]
  },
  {
   "cell_type": "code",
   "execution_count": 94,
   "metadata": {
    "collapsed": false,
    "scrolled": true
   },
   "outputs": [
    {
     "data": {
      "text/plain": [
       "['               ',\n",
       " '',\n",
       " '',\n",
       " '0.00',\n",
       " '',\n",
       " '0.00',\n",
       " '',\n",
       " '               30',\n",
       " '60,86,392',\n",
       " '60,86,392',\n",
       " '59.33',\n",
       " '6,60,000',\n",
       " '10.84',\n",
       " '60,86,392',\n",
       " '               1',\n",
       " '2,500',\n",
       " '2,500',\n",
       " '0.02',\n",
       " '',\n",
       " '0.00',\n",
       " '2,500',\n",
       " '               1',\n",
       " '6,41,850',\n",
       " '6,41,850',\n",
       " '6.26',\n",
       " '45,000',\n",
       " '7.01',\n",
       " '6,41,850',\n",
       " '               1',\n",
       " '1,35,875',\n",
       " '1,35,875',\n",
       " '1.32',\n",
       " '',\n",
       " '0.00',\n",
       " '1,35,875',\n",
       " '               1',\n",
       " '3,95,000',\n",
       " '3,95,000',\n",
       " '3.85',\n",
       " '50,000',\n",
       " '12.66',\n",
       " '3,95,000',\n",
       " '               1',\n",
       " '19,000',\n",
       " '19,000',\n",
       " '0.19',\n",
       " '',\n",
       " '0.00',\n",
       " '19,000',\n",
       " '               1',\n",
       " '4,98,225',\n",
       " '4,98,225',\n",
       " '4.86',\n",
       " '75,000',\n",
       " '15.05',\n",
       " '4,98,225',\n",
       " '               1',\n",
       " '71,500',\n",
       " '71,500',\n",
       " '0.70',\n",
       " '',\n",
       " '0.00',\n",
       " '71,500',\n",
       " '               1',\n",
       " '47,900',\n",
       " '47,900',\n",
       " '0.47',\n",
       " '',\n",
       " '0.00',\n",
       " '47,900',\n",
       " '               1',\n",
       " '4,00,625',\n",
       " '4,00,625',\n",
       " '3.91',\n",
       " '50,000',\n",
       " '12.48',\n",
       " '4,00,625',\n",
       " '               1',\n",
       " '71,500',\n",
       " '71,500',\n",
       " '0.70',\n",
       " '',\n",
       " '0.00',\n",
       " '71,500',\n",
       " '               1',\n",
       " '4,91,100',\n",
       " '4,91,100',\n",
       " '4.79',\n",
       " '96,000',\n",
       " '19.55',\n",
       " '4,91,100',\n",
       " '               1',\n",
       " '25,000',\n",
       " '25,000',\n",
       " '0.24',\n",
       " '',\n",
       " '0.00',\n",
       " '25,000',\n",
       " '               1',\n",
       " '1,01,300',\n",
       " '1,01,300',\n",
       " '0.99',\n",
       " '',\n",
       " '0.00',\n",
       " '1,01,300',\n",
       " '               1',\n",
       " '76,900',\n",
       " '76,900',\n",
       " '0.75',\n",
       " '12,000',\n",
       " '15.60',\n",
       " '76,900',\n",
       " '               1',\n",
       " '3,375',\n",
       " '3,375',\n",
       " '0.03',\n",
       " '',\n",
       " '0.00',\n",
       " '3,375',\n",
       " '               1',\n",
       " '2,79,650',\n",
       " '2,79,650',\n",
       " '2.73',\n",
       " '15,000',\n",
       " '5.36',\n",
       " '2,79,650',\n",
       " '               1',\n",
       " '2,44,105',\n",
       " '2,44,105',\n",
       " '2.38',\n",
       " '50,000',\n",
       " '20.48',\n",
       " '2,44,105',\n",
       " '               1',\n",
       " '53,850',\n",
       " '53,850',\n",
       " '0.52',\n",
       " '',\n",
       " '0.00',\n",
       " '53,850',\n",
       " '               1',\n",
       " '1,25,000',\n",
       " '1,25,000',\n",
       " '1.22',\n",
       " '',\n",
       " '0.00',\n",
       " '1,25,000',\n",
       " '               1',\n",
       " '5,32,525',\n",
       " '5,32,525',\n",
       " '5.19',\n",
       " '86,000',\n",
       " '16.15',\n",
       " '5,32,525',\n",
       " '               1',\n",
       " '2,96,114',\n",
       " '2,96,114',\n",
       " '2.89',\n",
       " '50,000',\n",
       " '16.89',\n",
       " '2,96,114',\n",
       " '               1',\n",
       " '4,500',\n",
       " '4,500',\n",
       " '0.04',\n",
       " '2,000',\n",
       " '44.44',\n",
       " '4,500',\n",
       " '               1',\n",
       " '2,31,300',\n",
       " '2,31,300',\n",
       " '2.25',\n",
       " '17,000',\n",
       " '7.35',\n",
       " '2,31,300',\n",
       " '               1',\n",
       " '1,32,040',\n",
       " '1,32,040',\n",
       " '1.29',\n",
       " '2,000',\n",
       " '1.51',\n",
       " '1,32,040',\n",
       " '               1',\n",
       " '2,40,100',\n",
       " '2,40,100',\n",
       " '2.34',\n",
       " '10,000',\n",
       " '4.16',\n",
       " '2,40,100',\n",
       " '               1',\n",
       " '2,23,600',\n",
       " '2,23,600',\n",
       " '2.18',\n",
       " '17,000',\n",
       " '7.60',\n",
       " '2,23,600',\n",
       " '               1',\n",
       " '4,58,283',\n",
       " '4,58,283',\n",
       " '4.47',\n",
       " '50,000',\n",
       " '10.91',\n",
       " '4,58,283',\n",
       " '               1',\n",
       " '1,68,975',\n",
       " '1,68,975',\n",
       " '1.65',\n",
       " '18,000',\n",
       " '10.65',\n",
       " '1,68,975',\n",
       " '               1',\n",
       " '66,300',\n",
       " '66,300',\n",
       " '0.65',\n",
       " '15,000',\n",
       " '22.62',\n",
       " '66,300',\n",
       " '               1',\n",
       " '48,400',\n",
       " '48,400',\n",
       " '0.47',\n",
       " '',\n",
       " '0.00',\n",
       " '48,400',\n",
       " '               30',\n",
       " '60,86,392',\n",
       " '60,86,392',\n",
       " '59.33',\n",
       " '6,60,000',\n",
       " '10.84',\n",
       " '60,86,392',\n",
       " '               ',\n",
       " '',\n",
       " '',\n",
       " '0.00',\n",
       " '',\n",
       " '0.00',\n",
       " '',\n",
       " '               30',\n",
       " '60,86,392',\n",
       " '60,86,392',\n",
       " '59.33',\n",
       " '6,60,000',\n",
       " '10.84',\n",
       " '60,86,392']"
      ]
     },
     "execution_count": 94,
     "metadata": {},
     "output_type": "execute_result"
    }
   ],
   "source": [
    "ab=[cols[i].text_content() for i in range(len(cols))]\n",
    "ab"
   ]
  },
  {
   "cell_type": "code",
   "execution_count": 113,
   "metadata": {
    "collapsed": false
   },
   "outputs": [
    {
     "name": "stdout",
     "output_type": "stream",
     "text": [
      "['               ', '', '', '0.00', '', '0.00', '']\n",
      "['               30', '60,86,392', '60,86,392', '59.33', '6,60,000', '10.84', '60,86,392']\n",
      "['               1', '2,500', '2,500', '0.02', '', '0.00', '2,500']\n",
      "['               1', '6,41,850', '6,41,850', '6.26', '45,000', '7.01', '6,41,850']\n",
      "['               1', '1,35,875', '1,35,875', '1.32', '', '0.00', '1,35,875']\n",
      "['               1', '3,95,000', '3,95,000', '3.85', '50,000', '12.66', '3,95,000']\n",
      "['               1', '19,000', '19,000', '0.19', '', '0.00', '19,000']\n",
      "['               1', '4,98,225', '4,98,225', '4.86', '75,000', '15.05', '4,98,225']\n",
      "['               1', '71,500', '71,500', '0.70', '', '0.00', '71,500']\n",
      "['               1', '47,900', '47,900', '0.47', '', '0.00', '47,900']\n",
      "['               1', '4,00,625', '4,00,625', '3.91', '50,000', '12.48', '4,00,625']\n",
      "['               1', '71,500', '71,500', '0.70', '', '0.00', '71,500']\n",
      "['               1', '4,91,100', '4,91,100', '4.79', '96,000', '19.55', '4,91,100']\n",
      "['               1', '25,000', '25,000', '0.24', '', '0.00', '25,000']\n",
      "['               1', '1,01,300', '1,01,300', '0.99', '', '0.00', '1,01,300']\n",
      "['               1', '76,900', '76,900', '0.75', '12,000', '15.60', '76,900']\n",
      "['               1', '3,375', '3,375', '0.03', '', '0.00', '3,375']\n",
      "['               1', '2,79,650', '2,79,650', '2.73', '15,000', '5.36', '2,79,650']\n",
      "['               1', '2,44,105', '2,44,105', '2.38', '50,000', '20.48', '2,44,105']\n",
      "['               1', '53,850', '53,850', '0.52', '', '0.00', '53,850']\n",
      "['               1', '1,25,000', '1,25,000', '1.22', '', '0.00', '1,25,000']\n",
      "['               1', '5,32,525', '5,32,525', '5.19', '86,000', '16.15', '5,32,525']\n",
      "['               1', '2,96,114', '2,96,114', '2.89', '50,000', '16.89', '2,96,114']\n",
      "['               1', '4,500', '4,500', '0.04', '2,000', '44.44', '4,500']\n",
      "['               1', '2,31,300', '2,31,300', '2.25', '17,000', '7.35', '2,31,300']\n",
      "['               1', '1,32,040', '1,32,040', '1.29', '2,000', '1.51', '1,32,040']\n",
      "['               1', '2,40,100', '2,40,100', '2.34', '10,000', '4.16', '2,40,100']\n",
      "['               1', '2,23,600', '2,23,600', '2.18', '17,000', '7.60', '2,23,600']\n",
      "['               1', '4,58,283', '4,58,283', '4.47', '50,000', '10.91', '4,58,283']\n",
      "['               1', '1,68,975', '1,68,975', '1.65', '18,000', '10.65', '1,68,975']\n",
      "['               1', '66,300', '66,300', '0.65', '15,000', '22.62', '66,300']\n",
      "['               1', '48,400', '48,400', '0.47', '', '0.00', '48,400']\n",
      "['               30', '60,86,392', '60,86,392', '59.33', '6,60,000', '10.84', '60,86,392']\n",
      "['               ', '', '', '0.00', '', '0.00', '']\n"
     ]
    }
   ],
   "source": [
    "a=[]\n",
    "b=[]\n",
    "for i in range(0,len(ab)-7,7):\n",
    "    for j in range(i,i+7):\n",
    "        a.append((ab[j]))\n",
    "    print(a)\n",
    "    b.append(a)\n",
    "    a=[]\n",
    "        \n"
   ]
  },
  {
   "cell_type": "code",
   "execution_count": 114,
   "metadata": {
    "collapsed": false
   },
   "outputs": [
    {
     "data": {
      "text/plain": [
       "[['               ', '', '', '0.00', '', '0.00', ''],\n",
       " ['               30',\n",
       "  '60,86,392',\n",
       "  '60,86,392',\n",
       "  '59.33',\n",
       "  '6,60,000',\n",
       "  '10.84',\n",
       "  '60,86,392'],\n",
       " ['               1', '2,500', '2,500', '0.02', '', '0.00', '2,500'],\n",
       " ['               1',\n",
       "  '6,41,850',\n",
       "  '6,41,850',\n",
       "  '6.26',\n",
       "  '45,000',\n",
       "  '7.01',\n",
       "  '6,41,850'],\n",
       " ['               1', '1,35,875', '1,35,875', '1.32', '', '0.00', '1,35,875'],\n",
       " ['               1',\n",
       "  '3,95,000',\n",
       "  '3,95,000',\n",
       "  '3.85',\n",
       "  '50,000',\n",
       "  '12.66',\n",
       "  '3,95,000'],\n",
       " ['               1', '19,000', '19,000', '0.19', '', '0.00', '19,000'],\n",
       " ['               1',\n",
       "  '4,98,225',\n",
       "  '4,98,225',\n",
       "  '4.86',\n",
       "  '75,000',\n",
       "  '15.05',\n",
       "  '4,98,225'],\n",
       " ['               1', '71,500', '71,500', '0.70', '', '0.00', '71,500'],\n",
       " ['               1', '47,900', '47,900', '0.47', '', '0.00', '47,900'],\n",
       " ['               1',\n",
       "  '4,00,625',\n",
       "  '4,00,625',\n",
       "  '3.91',\n",
       "  '50,000',\n",
       "  '12.48',\n",
       "  '4,00,625'],\n",
       " ['               1', '71,500', '71,500', '0.70', '', '0.00', '71,500'],\n",
       " ['               1',\n",
       "  '4,91,100',\n",
       "  '4,91,100',\n",
       "  '4.79',\n",
       "  '96,000',\n",
       "  '19.55',\n",
       "  '4,91,100'],\n",
       " ['               1', '25,000', '25,000', '0.24', '', '0.00', '25,000'],\n",
       " ['               1', '1,01,300', '1,01,300', '0.99', '', '0.00', '1,01,300'],\n",
       " ['               1', '76,900', '76,900', '0.75', '12,000', '15.60', '76,900'],\n",
       " ['               1', '3,375', '3,375', '0.03', '', '0.00', '3,375'],\n",
       " ['               1',\n",
       "  '2,79,650',\n",
       "  '2,79,650',\n",
       "  '2.73',\n",
       "  '15,000',\n",
       "  '5.36',\n",
       "  '2,79,650'],\n",
       " ['               1',\n",
       "  '2,44,105',\n",
       "  '2,44,105',\n",
       "  '2.38',\n",
       "  '50,000',\n",
       "  '20.48',\n",
       "  '2,44,105'],\n",
       " ['               1', '53,850', '53,850', '0.52', '', '0.00', '53,850'],\n",
       " ['               1', '1,25,000', '1,25,000', '1.22', '', '0.00', '1,25,000'],\n",
       " ['               1',\n",
       "  '5,32,525',\n",
       "  '5,32,525',\n",
       "  '5.19',\n",
       "  '86,000',\n",
       "  '16.15',\n",
       "  '5,32,525'],\n",
       " ['               1',\n",
       "  '2,96,114',\n",
       "  '2,96,114',\n",
       "  '2.89',\n",
       "  '50,000',\n",
       "  '16.89',\n",
       "  '2,96,114'],\n",
       " ['               1', '4,500', '4,500', '0.04', '2,000', '44.44', '4,500'],\n",
       " ['               1',\n",
       "  '2,31,300',\n",
       "  '2,31,300',\n",
       "  '2.25',\n",
       "  '17,000',\n",
       "  '7.35',\n",
       "  '2,31,300'],\n",
       " ['               1',\n",
       "  '1,32,040',\n",
       "  '1,32,040',\n",
       "  '1.29',\n",
       "  '2,000',\n",
       "  '1.51',\n",
       "  '1,32,040'],\n",
       " ['               1',\n",
       "  '2,40,100',\n",
       "  '2,40,100',\n",
       "  '2.34',\n",
       "  '10,000',\n",
       "  '4.16',\n",
       "  '2,40,100'],\n",
       " ['               1',\n",
       "  '2,23,600',\n",
       "  '2,23,600',\n",
       "  '2.18',\n",
       "  '17,000',\n",
       "  '7.60',\n",
       "  '2,23,600'],\n",
       " ['               1',\n",
       "  '4,58,283',\n",
       "  '4,58,283',\n",
       "  '4.47',\n",
       "  '50,000',\n",
       "  '10.91',\n",
       "  '4,58,283'],\n",
       " ['               1',\n",
       "  '1,68,975',\n",
       "  '1,68,975',\n",
       "  '1.65',\n",
       "  '18,000',\n",
       "  '10.65',\n",
       "  '1,68,975'],\n",
       " ['               1', '66,300', '66,300', '0.65', '15,000', '22.62', '66,300'],\n",
       " ['               1', '48,400', '48,400', '0.47', '', '0.00', '48,400'],\n",
       " ['               30',\n",
       "  '60,86,392',\n",
       "  '60,86,392',\n",
       "  '59.33',\n",
       "  '6,60,000',\n",
       "  '10.84',\n",
       "  '60,86,392'],\n",
       " ['               ', '', '', '0.00', '', '0.00', '']]"
      ]
     },
     "execution_count": 114,
     "metadata": {},
     "output_type": "execute_result"
    }
   ],
   "source": [
    "b"
   ]
  },
  {
   "cell_type": "code",
   "execution_count": 25,
   "metadata": {
    "collapsed": false
   },
   "outputs": [
    {
     "data": {
      "text/plain": [
       "['Category of shareholder',\n",
       " 'Nos. of shareholders',\n",
       " 'No. of fully paid up equity shares held',\n",
       " 'Total nos. shares held',\n",
       " 'Shareholding as a % of total no. of shares (calculated as per SCRR, 1957)As a % of (A+B+C2)',\n",
       " ' Number of Locked in shares',\n",
       " ' Number of equity shares held in dematerialized form',\n",
       " 'No.(a)',\n",
       " 'As a % of total Shares held(b)']"
      ]
     },
     "execution_count": 25,
     "metadata": {},
     "output_type": "execute_result"
    }
   ],
   "source": [
    "cols=tree.find_class('innertable_header1')\n",
    "[cols[i].text_content() for i in range(len(cols))]"
   ]
  },
  {
   "cell_type": "code",
   "execution_count": 26,
   "metadata": {
    "collapsed": false,
    "scrolled": true
   },
   "outputs": [
    {
     "data": {
      "text/plain": [
       "['A1)\\xa0Indian',\n",
       " 'Individuals/Hindu undivided Family',\n",
       " 'AAYUSHI AGARWAL',\n",
       " 'JAI PRAKASH AGARWAL',\n",
       " 'JAIPRAKASH RAHULKUMAR HUF',\n",
       " 'JUGAL KISHORE AGARWAL',\n",
       " 'JUGAL KISHORE AGARWAL HUF',\n",
       " 'KISHAN AGARWAL',\n",
       " 'KISHAN AGARWAL HUF',\n",
       " 'LAKSHYA AGARWAL',\n",
       " 'LALIT AGARWAL',\n",
       " 'LALIT AGARWAL HUF',\n",
       " 'MAHENDRA AGARWAL',\n",
       " 'MAHENDRA AGARWAL HUF',\n",
       " 'MANGILAL AGARWAL HUF',\n",
       " 'MUKUL AGARWAL',\n",
       " 'NAMRATA SHAILESH AGRAWAL',\n",
       " 'NILESH AGARWAL',\n",
       " 'PADMA AGARWAL',\n",
       " 'POOJA AGARWAL',\n",
       " 'RAM CHANDRA AGARWAL HUF',\n",
       " 'RAMCHANDRA AGARWAL',\n",
       " 'REKHA AGARWAL',\n",
       " 'SANCHI AGARWAL',\n",
       " 'SHAILESH AGARWAL',\n",
       " 'SUDHA AGARWAL',\n",
       " 'SUSHILA AGARWAL',\n",
       " 'UMA AGARWAL',\n",
       " 'USHA AGARWAL',\n",
       " 'VIPIN AGARWAL',\n",
       " 'VIREL AGARWAL',\n",
       " 'YASH AGARWAL',\n",
       " 'Sub Total A1',\n",
       " 'A2)\\xa0Foreign',\n",
       " 'A=A1+A2']"
      ]
     },
     "execution_count": 26,
     "metadata": {},
     "output_type": "execute_result"
    }
   ],
   "source": [
    "cols=tree.find_class('TTRow_left')\n",
    "[cols[i].text_content() for i in range(len(cols))]"
   ]
  },
  {
   "cell_type": "code",
   "execution_count": 88,
   "metadata": {
    "collapsed": false
   },
   "outputs": [],
   "source": [
    "import pandas as pd\n",
    "cols=tree.find_class('innertable_header1')\n",
    "cols=[cols[i].text_content() for i in range(len(cols))]\n",
    "df=pd.DataFrame()\n",
    "\n",
    "    "
   ]
  },
  {
   "cell_type": "code",
   "execution_count": 50,
   "metadata": {
    "collapsed": false
   },
   "outputs": [],
   "source": [
    "for ix,val in enumerate(cols):\n",
    "    if len(cols)>6:\n",
    "        if ix==5:\n",
    "            df[val+\"-\"+cols[-2]]=\" \"\n",
    "            df[val+\"-\"+cols[-1]]=\" \"\n",
    "    df[val]=\" \""
   ]
  },
  {
   "cell_type": "code",
   "execution_count": 42,
   "metadata": {
    "collapsed": false
   },
   "outputs": [
    {
     "data": {
      "text/plain": [
       "['Category of shareholder',\n",
       " 'Nos. of shareholders',\n",
       " 'No. of fully paid up equity shares held',\n",
       " 'Total nos. shares held',\n",
       " 'Shareholding as a % of total no. of shares (calculated as per SCRR, 1957)As a % of (A+B+C2)',\n",
       " ' Number of Locked in shares',\n",
       " ' Number of equity shares held in dematerialized form',\n",
       " 'No.(a)',\n",
       " 'As a % of total Shares held(b)']"
      ]
     },
     "execution_count": 42,
     "metadata": {},
     "output_type": "execute_result"
    }
   ],
   "source": [
    "cols"
   ]
  },
  {
   "cell_type": "code",
   "execution_count": 51,
   "metadata": {
    "collapsed": false
   },
   "outputs": [
    {
     "data": {
      "text/html": [
       "<div>\n",
       "<table border=\"1\" class=\"dataframe\">\n",
       "  <thead>\n",
       "    <tr style=\"text-align: right;\">\n",
       "      <th></th>\n",
       "      <th>Category of shareholder</th>\n",
       "      <th>Nos. of shareholders</th>\n",
       "      <th>No. of fully paid up equity shares held</th>\n",
       "      <th>Total nos. shares held</th>\n",
       "      <th>Shareholding as a % of total no. of shares (calculated as per SCRR, 1957)As a % of (A+B+C2)</th>\n",
       "      <th>Number of Locked in shares-No.(a)</th>\n",
       "      <th>Number of Locked in shares-As a % of total Shares held(b)</th>\n",
       "      <th>Number of Locked in shares</th>\n",
       "      <th>Number of equity shares held in dematerialized form</th>\n",
       "      <th>No.(a)</th>\n",
       "      <th>As a % of total Shares held(b)</th>\n",
       "    </tr>\n",
       "  </thead>\n",
       "  <tbody>\n",
       "  </tbody>\n",
       "</table>\n",
       "</div>"
      ],
      "text/plain": [
       "Empty DataFrame\n",
       "Columns: [Category of shareholder, Nos. of shareholders, No. of fully paid up equity shares held, Total nos. shares held, Shareholding as a % of total no. of shares (calculated as per SCRR, 1957)As a % of (A+B+C2),  Number of Locked in shares-No.(a),  Number of Locked in shares-As a % of total Shares held(b),  Number of Locked in shares,  Number of equity shares held in dematerialized form, No.(a), As a % of total Shares held(b)]\n",
       "Index: []"
      ]
     },
     "execution_count": 51,
     "metadata": {},
     "output_type": "execute_result"
    }
   ],
   "source": [
    "df"
   ]
  },
  {
   "cell_type": "code",
   "execution_count": 71,
   "metadata": {
    "collapsed": true
   },
   "outputs": [],
   "source": [
    "if len(cols)>6:\n",
    "    for ix,val in enumerate(cols):\n",
    "        df[val]=\"\""
   ]
  },
  {
   "cell_type": "code",
   "execution_count": 89,
   "metadata": {
    "collapsed": false
   },
   "outputs": [
    {
     "data": {
      "text/html": [
       "<div>\n",
       "<table border=\"1\" class=\"dataframe\">\n",
       "  <thead>\n",
       "    <tr style=\"text-align: right;\">\n",
       "      <th></th>\n",
       "      <th>Category of shareholder</th>\n",
       "      <th>Nos. of shareholders</th>\n",
       "      <th>No. of fully paid up equity shares held</th>\n",
       "      <th>Total nos. shares held</th>\n",
       "      <th>Shareholding as a % of total no. of shares (calculated as per SCRR, 1957)As a % of (A+B+C2)</th>\n",
       "      <th>Number of Locked in shares-No.(a)</th>\n",
       "      <th>Number of Locked in shares-As a % of total Shares held(b)</th>\n",
       "      <th>Number of equity shares held in dematerialized form</th>\n",
       "    </tr>\n",
       "  </thead>\n",
       "  <tbody>\n",
       "  </tbody>\n",
       "</table>\n",
       "</div>"
      ],
      "text/plain": [
       "Empty DataFrame\n",
       "Columns: [Category of shareholder, Nos. of shareholders, No. of fully paid up equity shares held, Total nos. shares held, Shareholding as a % of total no. of shares (calculated as per SCRR, 1957)As a % of (A+B+C2),  Number of Locked in shares-No.(a),  Number of Locked in shares-As a % of total Shares held(b),  Number of equity shares held in dematerialized form]\n",
       "Index: []"
      ]
     },
     "execution_count": 89,
     "metadata": {},
     "output_type": "execute_result"
    }
   ],
   "source": [
    "if len(cols)>6:\n",
    "    for ix,val in enumerate(cols):\n",
    "        if ix==5:\n",
    "            df[cols[ix]+'-'+cols[-2]]=\" \"\n",
    "            df[cols[ix]+'-'+cols[-1]]=\" \"\n",
    "            continue\n",
    "        elif ix>=7:\n",
    "            pass\n",
    "        else:\n",
    "            df[val]=\" \"\n",
    "else:\n",
    "    for val in (cols):\n",
    "        df[val]=\" \""
   ]
  },
  {
   "cell_type": "code",
   "execution_count": 64,
   "metadata": {
    "collapsed": false
   },
   "outputs": [
    {
     "data": {
      "text/plain": [
       "'No.(a)'"
      ]
     },
     "execution_count": 64,
     "metadata": {},
     "output_type": "execute_result"
    }
   ],
   "source": [
    "df.columns[-2]"
   ]
  },
  {
   "cell_type": "code",
   "execution_count": 73,
   "metadata": {
    "collapsed": false
   },
   "outputs": [],
   "source": [
    "df.rename(columns={ df.columns[-1]: cols[5]+'-'+cols[-1],\n",
    "                    df.columns[-2]: cols[5]+'-'+cols[-2]\n",
    "                  }, inplace = True)\n",
    "df.drop(labels=cols[5],axis=1,inplace=True)"
   ]
  },
  {
   "cell_type": "code",
   "execution_count": 74,
   "metadata": {
    "collapsed": false
   },
   "outputs": [
    {
     "data": {
      "text/html": [
       "<div>\n",
       "<table border=\"1\" class=\"dataframe\">\n",
       "  <thead>\n",
       "    <tr style=\"text-align: right;\">\n",
       "      <th></th>\n",
       "      <th>Category of shareholder</th>\n",
       "      <th>Nos. of shareholders</th>\n",
       "      <th>No. of fully paid up equity shares held</th>\n",
       "      <th>Total nos. shares held</th>\n",
       "      <th>Shareholding as a % of total no. of shares (calculated as per SCRR, 1957)As a % of (A+B+C2)</th>\n",
       "      <th>Number of equity shares held in dematerialized form</th>\n",
       "      <th>Number of Locked in shares-No.(a)</th>\n",
       "      <th>Number of Locked in shares-As a % of total Shares held(b)</th>\n",
       "    </tr>\n",
       "  </thead>\n",
       "  <tbody>\n",
       "  </tbody>\n",
       "</table>\n",
       "</div>"
      ],
      "text/plain": [
       "Empty DataFrame\n",
       "Columns: [Category of shareholder, Nos. of shareholders, No. of fully paid up equity shares held, Total nos. shares held, Shareholding as a % of total no. of shares (calculated as per SCRR, 1957)As a % of (A+B+C2),  Number of equity shares held in dematerialized form,  Number of Locked in shares-No.(a),  Number of Locked in shares-As a % of total Shares held(b)]\n",
       "Index: []"
      ]
     },
     "execution_count": 74,
     "metadata": {},
     "output_type": "execute_result"
    }
   ],
   "source": [
    "df"
   ]
  },
  {
   "cell_type": "code",
   "execution_count": 118,
   "metadata": {
    "collapsed": true
   },
   "outputs": [],
   "source": [
    "def get_extra_col_df(cols):\n",
    "    for ix,val in enumerate(cols):\n",
    "        if ix==5:\n",
    "            df[cols[ix]+'-'+cols[-2]]=\" \"\n",
    "            df[cols[ix]+'-'+cols[-1]]=\" \"\n",
    "            continue\n",
    "        elif ix>=7:\n",
    "            pass\n",
    "        else:\n",
    "            df[val]=\" \"\n",
    "    return df\n",
    "def get_table_promoter_n_group_df(URL):\n",
    "    try:\n",
    "        #URL=r'https://www.bseindia.com/corporates/shpPromoterNGroup.aspx?scripcd=532500&qtrid=102.00&QtrName=June%202019'\n",
    "        r = requests.get(URL)\n",
    "        tree = html.fromstring(r.content)\n",
    "        cols=tree.find_class('innertable_header1')\n",
    "        cols=[cols[i].text_content() for i in range(len(cols))]\n",
    "        if len(cols)>7:\n",
    "            df=get_extra_col_df(cols)\n",
    "            left_col=tree.find_class('TTRow_left')\n",
    "            df[cols[0]]=[i.text_content() for i in left_col]\n",
    "            all_cols=tree.find_class('TTRow_right')\n",
    "            ab=[i.text_content() for i in all_cols]\n",
    "            a=[]\n",
    "            #b=[]\n",
    "            for i in range(0,len(ab)-7,7):\n",
    "                for j in range(i,i+7):\n",
    "                    a.append((ab[j]))\n",
    "                #print(a)\n",
    "                df[cols[i+1]]=a\n",
    "                #b.append(a)\n",
    "                a=[]\n",
    "        else:\n",
    "            for val in (cols):\n",
    "                df[val]=\" \"\n",
    "        left_col=tree.find_class('TTRow_left')\n",
    "        df[cols[0]]=[i.text_content() for i in left_col]\n",
    "    except ValueError as v:\n",
    "        print(i)\n",
    "        print(v)\n",
    "    return df"
   ]
  },
  {
   "cell_type": "code",
   "execution_count": 129,
   "metadata": {
    "collapsed": false,
    "scrolled": true
   },
   "outputs": [
    {
     "ename": "UnboundLocalError",
     "evalue": "local variable 'i' referenced before assignment",
     "output_type": "error",
     "traceback": [
      "\u001b[1;31m---------------------------------------------------------------------------\u001b[0m",
      "\u001b[1;31mValueError\u001b[0m                                Traceback (most recent call last)",
      "\u001b[1;32m<ipython-input-118-60739615bac7>\u001b[0m in \u001b[0;36mget_table_promoter_n_group_df\u001b[1;34m(URL)\u001b[0m\n\u001b[0;32m     21\u001b[0m             \u001b[0mleft_col\u001b[0m\u001b[1;33m=\u001b[0m\u001b[0mtree\u001b[0m\u001b[1;33m.\u001b[0m\u001b[0mfind_class\u001b[0m\u001b[1;33m(\u001b[0m\u001b[1;34m'TTRow_left'\u001b[0m\u001b[1;33m)\u001b[0m\u001b[1;33m\u001b[0m\u001b[0m\n\u001b[1;32m---> 22\u001b[1;33m             \u001b[0mdf\u001b[0m\u001b[1;33m[\u001b[0m\u001b[0mcols\u001b[0m\u001b[1;33m[\u001b[0m\u001b[1;36m0\u001b[0m\u001b[1;33m]\u001b[0m\u001b[1;33m]\u001b[0m\u001b[1;33m=\u001b[0m\u001b[1;33m[\u001b[0m\u001b[0mi\u001b[0m\u001b[1;33m.\u001b[0m\u001b[0mtext_content\u001b[0m\u001b[1;33m(\u001b[0m\u001b[1;33m)\u001b[0m \u001b[1;32mfor\u001b[0m \u001b[0mi\u001b[0m \u001b[1;32min\u001b[0m \u001b[0mleft_col\u001b[0m\u001b[1;33m]\u001b[0m\u001b[1;33m\u001b[0m\u001b[0m\n\u001b[0m\u001b[0;32m     23\u001b[0m             \u001b[0mall_cols\u001b[0m\u001b[1;33m=\u001b[0m\u001b[0mtree\u001b[0m\u001b[1;33m.\u001b[0m\u001b[0mfind_class\u001b[0m\u001b[1;33m(\u001b[0m\u001b[1;34m'TTRow_right'\u001b[0m\u001b[1;33m)\u001b[0m\u001b[1;33m\u001b[0m\u001b[0m\n",
      "\u001b[1;32m~\\AppData\\Local\\Continuum\\Anaconda3\\lib\\site-packages\\pandas\\core\\frame.py\u001b[0m in \u001b[0;36m__setitem__\u001b[1;34m(self, key, value)\u001b[0m\n\u001b[0;32m   2418\u001b[0m             \u001b[1;31m# set column\u001b[0m\u001b[1;33m\u001b[0m\u001b[1;33m\u001b[0m\u001b[0m\n\u001b[1;32m-> 2419\u001b[1;33m             \u001b[0mself\u001b[0m\u001b[1;33m.\u001b[0m\u001b[0m_set_item\u001b[0m\u001b[1;33m(\u001b[0m\u001b[0mkey\u001b[0m\u001b[1;33m,\u001b[0m \u001b[0mvalue\u001b[0m\u001b[1;33m)\u001b[0m\u001b[1;33m\u001b[0m\u001b[0m\n\u001b[0m\u001b[0;32m   2420\u001b[0m \u001b[1;33m\u001b[0m\u001b[0m\n",
      "\u001b[1;32m~\\AppData\\Local\\Continuum\\Anaconda3\\lib\\site-packages\\pandas\\core\\frame.py\u001b[0m in \u001b[0;36m_set_item\u001b[1;34m(self, key, value)\u001b[0m\n\u001b[0;32m   2484\u001b[0m         \u001b[0mself\u001b[0m\u001b[1;33m.\u001b[0m\u001b[0m_ensure_valid_index\u001b[0m\u001b[1;33m(\u001b[0m\u001b[0mvalue\u001b[0m\u001b[1;33m)\u001b[0m\u001b[1;33m\u001b[0m\u001b[0m\n\u001b[1;32m-> 2485\u001b[1;33m         \u001b[0mvalue\u001b[0m \u001b[1;33m=\u001b[0m \u001b[0mself\u001b[0m\u001b[1;33m.\u001b[0m\u001b[0m_sanitize_column\u001b[0m\u001b[1;33m(\u001b[0m\u001b[0mkey\u001b[0m\u001b[1;33m,\u001b[0m \u001b[0mvalue\u001b[0m\u001b[1;33m)\u001b[0m\u001b[1;33m\u001b[0m\u001b[0m\n\u001b[0m\u001b[0;32m   2486\u001b[0m         \u001b[0mNDFrame\u001b[0m\u001b[1;33m.\u001b[0m\u001b[0m_set_item\u001b[0m\u001b[1;33m(\u001b[0m\u001b[0mself\u001b[0m\u001b[1;33m,\u001b[0m \u001b[0mkey\u001b[0m\u001b[1;33m,\u001b[0m \u001b[0mvalue\u001b[0m\u001b[1;33m)\u001b[0m\u001b[1;33m\u001b[0m\u001b[0m\n",
      "\u001b[1;32m~\\AppData\\Local\\Continuum\\Anaconda3\\lib\\site-packages\\pandas\\core\\frame.py\u001b[0m in \u001b[0;36m_sanitize_column\u001b[1;34m(self, key, value, broadcast)\u001b[0m\n\u001b[0;32m   2655\u001b[0m             \u001b[1;31m# turn me into an ndarray\u001b[0m\u001b[1;33m\u001b[0m\u001b[1;33m\u001b[0m\u001b[0m\n\u001b[1;32m-> 2656\u001b[1;33m             \u001b[0mvalue\u001b[0m \u001b[1;33m=\u001b[0m \u001b[0m_sanitize_index\u001b[0m\u001b[1;33m(\u001b[0m\u001b[0mvalue\u001b[0m\u001b[1;33m,\u001b[0m \u001b[0mself\u001b[0m\u001b[1;33m.\u001b[0m\u001b[0mindex\u001b[0m\u001b[1;33m,\u001b[0m \u001b[0mcopy\u001b[0m\u001b[1;33m=\u001b[0m\u001b[1;32mFalse\u001b[0m\u001b[1;33m)\u001b[0m\u001b[1;33m\u001b[0m\u001b[0m\n\u001b[0m\u001b[0;32m   2657\u001b[0m             \u001b[1;32mif\u001b[0m \u001b[1;32mnot\u001b[0m \u001b[0misinstance\u001b[0m\u001b[1;33m(\u001b[0m\u001b[0mvalue\u001b[0m\u001b[1;33m,\u001b[0m \u001b[1;33m(\u001b[0m\u001b[0mnp\u001b[0m\u001b[1;33m.\u001b[0m\u001b[0mndarray\u001b[0m\u001b[1;33m,\u001b[0m \u001b[0mIndex\u001b[0m\u001b[1;33m)\u001b[0m\u001b[1;33m)\u001b[0m\u001b[1;33m:\u001b[0m\u001b[1;33m\u001b[0m\u001b[0m\n",
      "\u001b[1;32m~\\AppData\\Local\\Continuum\\Anaconda3\\lib\\site-packages\\pandas\\core\\series.py\u001b[0m in \u001b[0;36m_sanitize_index\u001b[1;34m(data, index, copy)\u001b[0m\n\u001b[0;32m   2799\u001b[0m     \u001b[1;32mif\u001b[0m \u001b[0mlen\u001b[0m\u001b[1;33m(\u001b[0m\u001b[0mdata\u001b[0m\u001b[1;33m)\u001b[0m \u001b[1;33m!=\u001b[0m \u001b[0mlen\u001b[0m\u001b[1;33m(\u001b[0m\u001b[0mindex\u001b[0m\u001b[1;33m)\u001b[0m\u001b[1;33m:\u001b[0m\u001b[1;33m\u001b[0m\u001b[0m\n\u001b[1;32m-> 2800\u001b[1;33m         \u001b[1;32mraise\u001b[0m \u001b[0mValueError\u001b[0m\u001b[1;33m(\u001b[0m\u001b[1;34m'Length of values does not match length of '\u001b[0m \u001b[1;34m'index'\u001b[0m\u001b[1;33m)\u001b[0m\u001b[1;33m\u001b[0m\u001b[0m\n\u001b[0m\u001b[0;32m   2801\u001b[0m \u001b[1;33m\u001b[0m\u001b[0m\n",
      "\u001b[1;31mValueError\u001b[0m: Length of values does not match length of index",
      "\nDuring handling of the above exception, another exception occurred:\n",
      "\u001b[1;31mUnboundLocalError\u001b[0m                         Traceback (most recent call last)",
      "\u001b[1;32m<ipython-input-129-93e565401d11>\u001b[0m in \u001b[0;36m<module>\u001b[1;34m()\u001b[0m\n\u001b[0;32m      1\u001b[0m \u001b[0mURL\u001b[0m\u001b[1;33m=\u001b[0m\u001b[1;34m'https://www.bseindia.com/corporates/shpPromoterNGroup.aspx?scripcd=533022&qtrid=102.00&QtrName=June%202019'\u001b[0m\u001b[1;33m\u001b[0m\u001b[0m\n\u001b[1;32m----> 2\u001b[1;33m \u001b[0mget_table_promoter_n_group_df\u001b[0m\u001b[1;33m(\u001b[0m\u001b[0mURL\u001b[0m\u001b[1;33m)\u001b[0m\u001b[1;33m\u001b[0m\u001b[0m\n\u001b[0m",
      "\u001b[1;32m<ipython-input-118-60739615bac7>\u001b[0m in \u001b[0;36mget_table_promoter_n_group_df\u001b[1;34m(URL)\u001b[0m\n\u001b[0;32m     38\u001b[0m         \u001b[0mdf\u001b[0m\u001b[1;33m[\u001b[0m\u001b[0mcols\u001b[0m\u001b[1;33m[\u001b[0m\u001b[1;36m0\u001b[0m\u001b[1;33m]\u001b[0m\u001b[1;33m]\u001b[0m\u001b[1;33m=\u001b[0m\u001b[1;33m[\u001b[0m\u001b[0mi\u001b[0m\u001b[1;33m.\u001b[0m\u001b[0mtext_content\u001b[0m\u001b[1;33m(\u001b[0m\u001b[1;33m)\u001b[0m \u001b[1;32mfor\u001b[0m \u001b[0mi\u001b[0m \u001b[1;32min\u001b[0m \u001b[0mleft_col\u001b[0m\u001b[1;33m]\u001b[0m\u001b[1;33m\u001b[0m\u001b[0m\n\u001b[0;32m     39\u001b[0m     \u001b[1;32mexcept\u001b[0m \u001b[0mValueError\u001b[0m \u001b[1;32mas\u001b[0m \u001b[0mv\u001b[0m\u001b[1;33m:\u001b[0m\u001b[1;33m\u001b[0m\u001b[0m\n\u001b[1;32m---> 40\u001b[1;33m         \u001b[0mprint\u001b[0m\u001b[1;33m(\u001b[0m\u001b[0mi\u001b[0m\u001b[1;33m)\u001b[0m\u001b[1;33m\u001b[0m\u001b[0m\n\u001b[0m\u001b[0;32m     41\u001b[0m         \u001b[0mprint\u001b[0m\u001b[1;33m(\u001b[0m\u001b[0mv\u001b[0m\u001b[1;33m)\u001b[0m\u001b[1;33m\u001b[0m\u001b[0m\n\u001b[0;32m     42\u001b[0m     \u001b[1;32mreturn\u001b[0m \u001b[0mdf\u001b[0m\u001b[1;33m\u001b[0m\u001b[0m\n",
      "\u001b[1;31mUnboundLocalError\u001b[0m: local variable 'i' referenced before assignment"
     ]
    }
   ],
   "source": [
    "URL='https://www.bseindia.com/corporates/shpPromoterNGroup.aspx?scripcd=533022&qtrid=102.00&QtrName=June%202019'\n",
    "get_table_promoter_n_group_df(URL)"
   ]
  },
  {
   "cell_type": "code",
   "execution_count": 130,
   "metadata": {
    "collapsed": true
   },
   "outputs": [],
   "source": [
    "r = requests.get(URL)\n",
    "tree = html.fromstring(r.content)\n",
    "left_col=tree.find_class('TTRow_left')"
   ]
  },
  {
   "cell_type": "code",
   "execution_count": 131,
   "metadata": {
    "collapsed": false
   },
   "outputs": [
    {
     "data": {
      "text/plain": [
       "['A1)\\xa0Indian',\n",
       " 'Individuals/Hindu undivided Family',\n",
       " 'CHANDRESH S PARIKH',\n",
       " 'RAJESH CHANDRESH PARIKH',\n",
       " 'ATIL CHANDRESH PARIKH',\n",
       " 'ILABEN PARIKH',\n",
       " 'Any Other (specify)',\n",
       " 'ERIEZ INDUSTRIES PRIVATE  LIMITED',\n",
       " 'Sub Total A1',\n",
       " 'A2)\\xa0Foreign',\n",
       " 'A=A1+A2']"
      ]
     },
     "execution_count": 131,
     "metadata": {},
     "output_type": "execute_result"
    }
   ],
   "source": [
    "[i.text_content() for i in left_col]"
   ]
  },
  {
   "cell_type": "code",
   "execution_count": 132,
   "metadata": {
    "collapsed": false
   },
   "outputs": [
    {
     "data": {
      "text/plain": [
       "['Category of shareholder',\n",
       " 'Nos. of shareholders',\n",
       " 'No. of fully paid up equity shares held',\n",
       " 'Total nos. shares held',\n",
       " 'Shareholding as a % of total no. of shares (calculated as per SCRR, 1957)As a % of (A+B+C2)',\n",
       " ' Number of Shares pledged or otherwise encumbered',\n",
       " ' Number of equity shares held in dematerialized form',\n",
       " 'No.(a)',\n",
       " 'As a % of total Shares held(b)']"
      ]
     },
     "execution_count": 132,
     "metadata": {},
     "output_type": "execute_result"
    }
   ],
   "source": [
    "cols=tree.find_class('innertable_header1')\n",
    "[cols[i].text_content() for i in range(len(cols))]"
   ]
  },
  {
   "cell_type": "code",
   "execution_count": 159,
   "metadata": {
    "collapsed": false
   },
   "outputs": [],
   "source": [
    "URL='https://www.bseindia.com/corporates/shpPromoterNGroup.aspx?scripcd=531921&qtrid=102.00&QtrName=June%202019'\n",
    "URL='https://www.bseindia.com/corporates/shpPromoterNGroup.aspx?scripcd=533022&qtrid=102.00&QtrName=June%202019'\n",
    "URL='https://www.bseindia.com/corporates/shpPromoterNGroup.aspx?scripcd=523261&qtrid=102.00&QtrName=June%202019'\n",
    "r = requests.get(URL)\n",
    "tree = html.fromstring(r.content)"
   ]
  },
  {
   "cell_type": "code",
   "execution_count": 204,
   "metadata": {
    "collapsed": false
   },
   "outputs": [
    {
     "data": {
      "text/plain": [
       "['Category of shareholder',\n",
       " 'Nos. of shareholders',\n",
       " 'No. of fully paid up equity shares held',\n",
       " 'Total nos. shares held',\n",
       " 'Shareholding as a % of total no. of shares (calculated as per SCRR, 1957)As a % of (A+B+C2)',\n",
       " ' Number of equity shares held in dematerialized form']"
      ]
     },
     "execution_count": 204,
     "metadata": {},
     "output_type": "execute_result"
    }
   ],
   "source": [
    "def get_column_name(tree):\n",
    "    cols=tree.find_class('innertable_header1')\n",
    "    cols=[cols[i].text_content().encode('ascii', 'ignore').decode(\"utf-8\") for i in range(len(cols))]\n",
    "    return cols\n",
    "get_column_name(tree)"
   ]
  },
  {
   "cell_type": "code",
   "execution_count": 205,
   "metadata": {
    "collapsed": false
   },
   "outputs": [
    {
     "data": {
      "text/plain": [
       "['A1)Indian',\n",
       " 'Any Other (specify)',\n",
       " 'ANURADHA JITENDRA DESAI',\n",
       " 'BANDA VENKATESH RAO',\n",
       " 'BANDA BALAJI RAO',\n",
       " 'JITENDRA MORESHWAR DESAI',\n",
       " 'DESAI VIMAL MORESHWAR',\n",
       " 'UTTARADEVI RAO',\n",
       " 'VENKATESHWARA HATCHERIES PVT LIMITED',\n",
       " 'SRIVENK INVESTMENTS AND FINANCE PRIVATE LIMITED',\n",
       " 'Sub Total A1',\n",
       " 'A2)Foreign',\n",
       " 'A=A1+A2']"
      ]
     },
     "execution_count": 205,
     "metadata": {},
     "output_type": "execute_result"
    }
   ],
   "source": [
    "def get_right_column_data(tree):\n",
    "    cols=tree.find_class('TTRow_left')\n",
    "    cols=[(cols[i].text_content()).encode('ascii', 'ignore').decode(\"utf-8\") for i in range(len(cols))]\n",
    "    return cols\n",
    "get_right_column_data(tree)"
   ]
  },
  {
   "cell_type": "code",
   "execution_count": 206,
   "metadata": {
    "collapsed": false,
    "scrolled": true
   },
   "outputs": [
    {
     "data": {
      "text/plain": [
       "['',\n",
       " '',\n",
       " '',\n",
       " '0.00',\n",
       " '',\n",
       " '8',\n",
       " '7903966',\n",
       " '7903966',\n",
       " '56.11',\n",
       " '7881435',\n",
       " '1',\n",
       " '482926',\n",
       " '482926',\n",
       " '3.43',\n",
       " '482926',\n",
       " '1',\n",
       " '66051',\n",
       " '66051',\n",
       " '0.47',\n",
       " '66051',\n",
       " '1',\n",
       " '65667',\n",
       " '65667',\n",
       " '0.47',\n",
       " '65667',\n",
       " '1',\n",
       " '30079',\n",
       " '30079',\n",
       " '0.21',\n",
       " '30079',\n",
       " '1',\n",
       " '49789',\n",
       " '49789',\n",
       " '0.35',\n",
       " '49789',\n",
       " '1',\n",
       " '22531',\n",
       " '22531',\n",
       " '0.16',\n",
       " '',\n",
       " '1',\n",
       " '7186914',\n",
       " '7186914',\n",
       " '51.02',\n",
       " '7186914',\n",
       " '1',\n",
       " '9',\n",
       " '9',\n",
       " '0.00',\n",
       " '9',\n",
       " '8',\n",
       " '7903966',\n",
       " '7903966',\n",
       " '56.11',\n",
       " '7881435',\n",
       " '',\n",
       " '',\n",
       " '',\n",
       " '0.00',\n",
       " '',\n",
       " '8',\n",
       " '7903966',\n",
       " '7903966',\n",
       " '56.11',\n",
       " '7881435']"
      ]
     },
     "execution_count": 206,
     "metadata": {},
     "output_type": "execute_result"
    }
   ],
   "source": [
    "import re\n",
    "def get_data(tree):\n",
    "    all_cols=tree.find_class('TTRow_right')\n",
    "    all_cols=[re.sub(r\"[\\s+|,]\", \"\", i.text_content()) for i in all_cols]\n",
    "    return all_cols\n",
    "get_data(tree)"
   ]
  },
  {
   "cell_type": "code",
   "execution_count": 212,
   "metadata": {
    "collapsed": false,
    "scrolled": true
   },
   "outputs": [
    {
     "name": "stdout",
     "output_type": "stream",
     "text": [
      "['Category of shareholder', 'Nos. of shareholders', 'No. of fully paid up equity shares held', 'Total nos. shares held', 'Shareholding as a % of total no. of shares (calculated as per SCRR, 1957)As a % of (A+B+C2)', ' Number of Shares pledged or otherwise encumbered', ' Number of equity shares held in dematerialized form', 'No.(a)', 'As a % of total Shares held(b)']\n",
      "0 ['', '', '', '0.00', '']\n",
      "5 ['8', '7903966', '7903966', '56.11', '7881435']\n",
      "10 ['1', '482926', '482926', '3.43', '482926']\n",
      "15 ['1', '66051', '66051', '0.47', '66051']\n",
      "20 ['1', '65667', '65667', '0.47', '65667']\n",
      "25 ['1', '30079', '30079', '0.21', '30079']\n",
      "30 ['1', '49789', '49789', '0.35', '49789']\n",
      "35 ['1', '22531', '22531', '0.16', '']\n",
      "40 ['1', '7186914', '7186914', '51.02', '7186914']\n",
      "45 ['1', '9', '9', '0.00', '9']\n",
      "50 ['8', '7903966', '7903966', '56.11', '7881435']\n",
      "55 ['', '', '', '0.00', '']\n",
      "60 ['8', '7903966', '7903966', '56.11', '7881435']\n"
     ]
    }
   ],
   "source": [
    "fit_data(tree,cols,df)"
   ]
  },
  {
   "cell_type": "code",
   "execution_count": 45,
   "metadata": {
    "collapsed": false,
    "scrolled": true
   },
   "outputs": [],
   "source": [
    "def get_column_name(tree):\n",
    "    cols=tree.find_class('innertable_header1')\n",
    "    cols=[cols[i].text_content().encode('ascii', 'ignore').decode(\"utf-8\") for i in range(len(cols))]\n",
    "    return cols\n",
    "\n",
    "import re\n",
    "def get_data(tree):\n",
    "    all_cols=tree.find_class('TTRow_right')\n",
    "    all_cols=[re.sub(r\"[\\s+|,]\", \"\", i.text_content()) for i in all_cols]\n",
    "    return all_cols\n",
    "\n",
    "def get_right_column_data(tree):\n",
    "    cols=tree.find_class('TTRow_left')\n",
    "    cols=[(cols[i].text_content()).encode('ascii', 'ignore').decode(\"utf-8\") for i in range(len(cols))]\n",
    "    return cols\n",
    "\n",
    "\n",
    "def fit_data(tree,cols,df):\n",
    "    datum=get_data(tree)\n",
    "    print(cols)\n",
    "    data={}\n",
    "    j=1\n",
    "    for i in range(0,len(datum),len(cols)-1):\n",
    "        data[j]=(datum[i:i+5])\n",
    "        j+=1\n",
    "    df1=pd.DataFrame(data).T\n",
    "    df1.columns=cols[1:]\n",
    "    return df1\n",
    "\n",
    "def col_having_six(URL):\n",
    "    r = requests.get(URL)\n",
    "    tree = html.fromstring(r.content)\n",
    "    cols=get_column_name(tree)\n",
    "    df=pd.DataFrame()\n",
    "    df=(fit_data(tree,cols,df))\n",
    "    df[cols[0]]=get_right_column_data(tree)\n",
    "    return df"
   ]
  },
  {
   "cell_type": "code",
   "execution_count": 46,
   "metadata": {
    "collapsed": false,
    "scrolled": true
   },
   "outputs": [
    {
     "name": "stdout",
     "output_type": "stream",
     "text": [
      "['Category of shareholder', 'Nos. of shareholders', 'No. of fully paid up equity shares held', 'Total nos. shares held', 'Shareholding as a % of total no. of shares (calculated as per SCRR, 1957)As a % of (A+B+C2)', ' Number of equity shares held in dematerialized form']\n"
     ]
    },
    {
     "data": {
      "text/html": [
       "<div>\n",
       "<table border=\"1\" class=\"dataframe\">\n",
       "  <thead>\n",
       "    <tr style=\"text-align: right;\">\n",
       "      <th></th>\n",
       "      <th>Nos. of shareholders</th>\n",
       "      <th>No. of fully paid up equity shares held</th>\n",
       "      <th>Total nos. shares held</th>\n",
       "      <th>Shareholding as a % of total no. of shares (calculated as per SCRR, 1957)As a % of (A+B+C2)</th>\n",
       "      <th>Number of equity shares held in dematerialized form</th>\n",
       "      <th>Category of shareholder</th>\n",
       "    </tr>\n",
       "  </thead>\n",
       "  <tbody>\n",
       "    <tr>\n",
       "      <th>1</th>\n",
       "      <td></td>\n",
       "      <td></td>\n",
       "      <td></td>\n",
       "      <td>0.00</td>\n",
       "      <td></td>\n",
       "      <td>A1)Indian</td>\n",
       "    </tr>\n",
       "    <tr>\n",
       "      <th>2</th>\n",
       "      <td>8</td>\n",
       "      <td>7903966</td>\n",
       "      <td>7903966</td>\n",
       "      <td>56.11</td>\n",
       "      <td>7881435</td>\n",
       "      <td>Any Other (specify)</td>\n",
       "    </tr>\n",
       "    <tr>\n",
       "      <th>3</th>\n",
       "      <td>1</td>\n",
       "      <td>482926</td>\n",
       "      <td>482926</td>\n",
       "      <td>3.43</td>\n",
       "      <td>482926</td>\n",
       "      <td>ANURADHA JITENDRA DESAI</td>\n",
       "    </tr>\n",
       "    <tr>\n",
       "      <th>4</th>\n",
       "      <td>1</td>\n",
       "      <td>66051</td>\n",
       "      <td>66051</td>\n",
       "      <td>0.47</td>\n",
       "      <td>66051</td>\n",
       "      <td>BANDA VENKATESH RAO</td>\n",
       "    </tr>\n",
       "    <tr>\n",
       "      <th>5</th>\n",
       "      <td>1</td>\n",
       "      <td>65667</td>\n",
       "      <td>65667</td>\n",
       "      <td>0.47</td>\n",
       "      <td>65667</td>\n",
       "      <td>BANDA BALAJI RAO</td>\n",
       "    </tr>\n",
       "    <tr>\n",
       "      <th>6</th>\n",
       "      <td>1</td>\n",
       "      <td>30079</td>\n",
       "      <td>30079</td>\n",
       "      <td>0.21</td>\n",
       "      <td>30079</td>\n",
       "      <td>JITENDRA MORESHWAR DESAI</td>\n",
       "    </tr>\n",
       "    <tr>\n",
       "      <th>7</th>\n",
       "      <td>1</td>\n",
       "      <td>49789</td>\n",
       "      <td>49789</td>\n",
       "      <td>0.35</td>\n",
       "      <td>49789</td>\n",
       "      <td>DESAI VIMAL MORESHWAR</td>\n",
       "    </tr>\n",
       "    <tr>\n",
       "      <th>8</th>\n",
       "      <td>1</td>\n",
       "      <td>22531</td>\n",
       "      <td>22531</td>\n",
       "      <td>0.16</td>\n",
       "      <td></td>\n",
       "      <td>UTTARADEVI RAO</td>\n",
       "    </tr>\n",
       "    <tr>\n",
       "      <th>9</th>\n",
       "      <td>1</td>\n",
       "      <td>7186914</td>\n",
       "      <td>7186914</td>\n",
       "      <td>51.02</td>\n",
       "      <td>7186914</td>\n",
       "      <td>VENKATESHWARA HATCHERIES PVT LIMITED</td>\n",
       "    </tr>\n",
       "    <tr>\n",
       "      <th>10</th>\n",
       "      <td>1</td>\n",
       "      <td>9</td>\n",
       "      <td>9</td>\n",
       "      <td>0.00</td>\n",
       "      <td>9</td>\n",
       "      <td>SRIVENK INVESTMENTS AND FINANCE PRIVATE LIMITED</td>\n",
       "    </tr>\n",
       "    <tr>\n",
       "      <th>11</th>\n",
       "      <td>8</td>\n",
       "      <td>7903966</td>\n",
       "      <td>7903966</td>\n",
       "      <td>56.11</td>\n",
       "      <td>7881435</td>\n",
       "      <td>Sub Total A1</td>\n",
       "    </tr>\n",
       "    <tr>\n",
       "      <th>12</th>\n",
       "      <td></td>\n",
       "      <td></td>\n",
       "      <td></td>\n",
       "      <td>0.00</td>\n",
       "      <td></td>\n",
       "      <td>A2)Foreign</td>\n",
       "    </tr>\n",
       "    <tr>\n",
       "      <th>13</th>\n",
       "      <td>8</td>\n",
       "      <td>7903966</td>\n",
       "      <td>7903966</td>\n",
       "      <td>56.11</td>\n",
       "      <td>7881435</td>\n",
       "      <td>A=A1+A2</td>\n",
       "    </tr>\n",
       "  </tbody>\n",
       "</table>\n",
       "</div>"
      ],
      "text/plain": [
       "   Nos. of shareholders No. of fully paid up equity shares held  \\\n",
       "1                                                                 \n",
       "2                     8                                 7903966   \n",
       "3                     1                                  482926   \n",
       "4                     1                                   66051   \n",
       "5                     1                                   65667   \n",
       "6                     1                                   30079   \n",
       "7                     1                                   49789   \n",
       "8                     1                                   22531   \n",
       "9                     1                                 7186914   \n",
       "10                    1                                       9   \n",
       "11                    8                                 7903966   \n",
       "12                                                                \n",
       "13                    8                                 7903966   \n",
       "\n",
       "   Total nos. shares held  \\\n",
       "1                           \n",
       "2                 7903966   \n",
       "3                  482926   \n",
       "4                   66051   \n",
       "5                   65667   \n",
       "6                   30079   \n",
       "7                   49789   \n",
       "8                   22531   \n",
       "9                 7186914   \n",
       "10                      9   \n",
       "11                7903966   \n",
       "12                          \n",
       "13                7903966   \n",
       "\n",
       "   Shareholding as a % of total no. of shares (calculated as per SCRR, 1957)As a % of (A+B+C2)  \\\n",
       "1                                                0.00                                            \n",
       "2                                               56.11                                            \n",
       "3                                                3.43                                            \n",
       "4                                                0.47                                            \n",
       "5                                                0.47                                            \n",
       "6                                                0.21                                            \n",
       "7                                                0.35                                            \n",
       "8                                                0.16                                            \n",
       "9                                               51.02                                            \n",
       "10                                               0.00                                            \n",
       "11                                              56.11                                            \n",
       "12                                               0.00                                            \n",
       "13                                              56.11                                            \n",
       "\n",
       "    Number of equity shares held in dematerialized form  \\\n",
       "1                                                         \n",
       "2                                             7881435     \n",
       "3                                              482926     \n",
       "4                                               66051     \n",
       "5                                               65667     \n",
       "6                                               30079     \n",
       "7                                               49789     \n",
       "8                                                         \n",
       "9                                             7186914     \n",
       "10                                                  9     \n",
       "11                                            7881435     \n",
       "12                                                        \n",
       "13                                            7881435     \n",
       "\n",
       "                            Category of shareholder  \n",
       "1                                         A1)Indian  \n",
       "2                               Any Other (specify)  \n",
       "3                           ANURADHA JITENDRA DESAI  \n",
       "4                               BANDA VENKATESH RAO  \n",
       "5                                  BANDA BALAJI RAO  \n",
       "6                          JITENDRA MORESHWAR DESAI  \n",
       "7                             DESAI VIMAL MORESHWAR  \n",
       "8                                    UTTARADEVI RAO  \n",
       "9              VENKATESHWARA HATCHERIES PVT LIMITED  \n",
       "10  SRIVENK INVESTMENTS AND FINANCE PRIVATE LIMITED  \n",
       "11                                     Sub Total A1  \n",
       "12                                       A2)Foreign  \n",
       "13                                          A=A1+A2  "
      ]
     },
     "execution_count": 46,
     "metadata": {},
     "output_type": "execute_result"
    }
   ],
   "source": [
    "URL='https://www.bseindia.com/corporates/shpPromoterNGroup.aspx?scripcd=523261&qtrid=102.00&QtrName=June%202019'\n",
    "col_having_six(URL)"
   ]
  },
  {
   "cell_type": "code",
   "execution_count": null,
   "metadata": {
    "collapsed": true
   },
   "outputs": [],
   "source": []
  },
  {
   "cell_type": "code",
   "execution_count": null,
   "metadata": {
    "collapsed": true
   },
   "outputs": [],
   "source": []
  }
 ],
 "metadata": {
  "kernelspec": {
   "display_name": "Python 3",
   "language": "python",
   "name": "python3"
  },
  "language_info": {
   "codemirror_mode": {
    "name": "ipython",
    "version": 3
   },
   "file_extension": ".py",
   "mimetype": "text/x-python",
   "name": "python",
   "nbconvert_exporter": "python",
   "pygments_lexer": "ipython3",
   "version": "3.6.0"
  }
 },
 "nbformat": 4,
 "nbformat_minor": 2
}
